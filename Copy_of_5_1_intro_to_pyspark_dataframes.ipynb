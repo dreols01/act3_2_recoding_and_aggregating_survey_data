{
  "cells": [
    {
      "cell_type": "markdown",
      "metadata": {
        "id": "view-in-github",
        "colab_type": "text"
      },
      "source": [
        "<a href=\"https://colab.research.google.com/github/dreols01/act3_2_recoding_and_aggregating_survey_data/blob/master/Copy_of_5_1_intro_to_pyspark_dataframes.ipynb\" target=\"_parent\"><img src=\"https://colab.research.google.com/assets/colab-badge.svg\" alt=\"Open In Colab\"/></a>"
      ]
    },
    {
      "cell_type": "markdown",
      "source": [
        "#### Setting up Colab\n",
        "\n",
        "To run this notebook on [Google's Colab](https://colab.research.google.com), you will need to perform the following steps."
      ],
      "metadata": {
        "id": "fI-ha_8fR6wH"
      }
    },
    {
      "cell_type": "markdown",
      "source": [
        "#### Step 1. Install `pyspark`\n",
        "\n",
        "Since `pyspark` isn't included in Colab's Python installation, you will need to install it each time you open this notebook."
      ],
      "metadata": {
        "id": "9FVAnVCFSRRM"
      }
    },
    {
      "cell_type": "code",
      "execution_count": null,
      "metadata": {
        "colab": {
          "base_uri": "https://localhost:8080/"
        },
        "id": "9dttewF2Ry2t",
        "outputId": "e652795e-e1f6-477d-e25b-610a6be5019d"
      },
      "outputs": [
        {
          "output_type": "stream",
          "name": "stdout",
          "text": [
            "Looking in indexes: https://pypi.org/simple, https://us-python.pkg.dev/colab-wheels/public/simple/\n",
            "Collecting pyspark\n",
            "  Downloading pyspark-3.3.0.tar.gz (281.3 MB)\n",
            "\u001b[K     |████████████████████████████████| 281.3 MB 49 kB/s \n",
            "\u001b[?25hCollecting py4j==0.10.9.5\n",
            "  Downloading py4j-0.10.9.5-py2.py3-none-any.whl (199 kB)\n",
            "\u001b[K     |████████████████████████████████| 199 kB 53.0 MB/s \n",
            "\u001b[?25hBuilding wheels for collected packages: pyspark\n",
            "  Building wheel for pyspark (setup.py) ... \u001b[?25l\u001b[?25hdone\n",
            "  Created wheel for pyspark: filename=pyspark-3.3.0-py2.py3-none-any.whl size=281764026 sha256=51345844750a1887cc534bcdc97c6e82ba7d6766507cc450af15e074062b708b\n",
            "  Stored in directory: /root/.cache/pip/wheels/7a/8e/1b/f73a52650d2e5f337708d9f6a1750d451a7349a867f928b885\n",
            "Successfully built pyspark\n",
            "Installing collected packages: py4j, pyspark\n",
            "Successfully installed py4j-0.10.9.5 pyspark-3.3.0\n"
          ]
        }
      ],
      "source": [
        "!pip install pyspark"
      ]
    },
    {
      "cell_type": "code",
      "source": [
        "!pip install composable"
      ],
      "metadata": {
        "colab": {
          "base_uri": "https://localhost:8080/"
        },
        "id": "4ma1gTHyTvQs",
        "outputId": "4f91b038-d06a-4159-e642-e38baef98579"
      },
      "execution_count": null,
      "outputs": [
        {
          "output_type": "stream",
          "name": "stdout",
          "text": [
            "Looking in indexes: https://pypi.org/simple, https://us-python.pkg.dev/colab-wheels/public/simple/\n",
            "Collecting composable\n",
            "  Downloading composable-0.2.5-py3-none-any.whl (7.3 kB)\n",
            "Collecting python-forge<19.0,>=18.6\n",
            "  Downloading python_forge-18.6.0-py35-none-any.whl (31 kB)\n",
            "Collecting toolz<0.12.0,>=0.11.1\n",
            "  Downloading toolz-0.11.2-py3-none-any.whl (55 kB)\n",
            "\u001b[K     |████████████████████████████████| 55 kB 4.0 MB/s \n",
            "\u001b[?25hInstalling collected packages: toolz, python-forge, composable\n",
            "  Attempting uninstall: toolz\n",
            "    Found existing installation: toolz 0.12.0\n",
            "    Uninstalling toolz-0.12.0:\n",
            "      Successfully uninstalled toolz-0.12.0\n",
            "Successfully installed composable-0.2.5 python-forge-18.6.0 toolz-0.11.2\n"
          ]
        }
      ]
    },
    {
      "cell_type": "markdown",
      "source": [
        "Step 2. Download and unzip the data\n",
        "\n",
        "Next, the easiest way to access the data from the module is to download and unzip."
      ],
      "metadata": {
        "id": "6eWTIKI6Spr3"
      }
    },
    {
      "cell_type": "code",
      "source": [
        "!wget https://github.com/wsu-stat489/module5_intro_to_pyspark/raw/main/data.zip"
      ],
      "metadata": {
        "colab": {
          "base_uri": "https://localhost:8080/"
        },
        "id": "320RJC5TS5Cl",
        "outputId": "d8b4c41a-27f2-47ff-814a-578cddd9bce1"
      },
      "execution_count": null,
      "outputs": [
        {
          "output_type": "stream",
          "name": "stdout",
          "text": [
            "--2022-10-25 00:37:09--  https://github.com/wsu-stat489/module5_intro_to_pyspark/raw/main/data.zip\n",
            "Resolving github.com (github.com)... 192.30.255.113\n",
            "Connecting to github.com (github.com)|192.30.255.113|:443... connected.\n",
            "HTTP request sent, awaiting response... 302 Found\n",
            "Location: https://raw.githubusercontent.com/wsu-stat489/module5_intro_to_pyspark/main/data.zip [following]\n",
            "--2022-10-25 00:37:09--  https://raw.githubusercontent.com/wsu-stat489/module5_intro_to_pyspark/main/data.zip\n",
            "Resolving raw.githubusercontent.com (raw.githubusercontent.com)... 185.199.108.133, 185.199.109.133, 185.199.110.133, ...\n",
            "Connecting to raw.githubusercontent.com (raw.githubusercontent.com)|185.199.108.133|:443... connected.\n",
            "HTTP request sent, awaiting response... 200 OK\n",
            "Length: 14977210 (14M) [application/zip]\n",
            "Saving to: ‘data.zip’\n",
            "\n",
            "data.zip            100%[===================>]  14.28M  --.-KB/s    in 0.1s    \n",
            "\n",
            "2022-10-25 00:37:10 (138 MB/s) - ‘data.zip’ saved [14977210/14977210]\n",
            "\n"
          ]
        }
      ]
    },
    {
      "cell_type": "code",
      "source": [
        "!unzip data.zip"
      ],
      "metadata": {
        "colab": {
          "base_uri": "https://localhost:8080/"
        },
        "id": "qoFbyBlPS8N9",
        "outputId": "e68ce396-4b01-4620-d90b-c09145e8aa4f"
      },
      "execution_count": null,
      "outputs": [
        {
          "output_type": "stream",
          "name": "stdout",
          "text": [
            "Archive:  data.zip\n",
            "   creating: data/\n",
            "  inflating: __MACOSX/._data         \n",
            "  inflating: data/.DS_Store          \n",
            "  inflating: __MACOSX/data/._.DS_Store  \n",
            "  inflating: data/Rochester_temps_2019.xlsx  \n",
            "  inflating: __MACOSX/data/._Rochester_temps_2019.xlsx  \n",
            "  inflating: data/uber-raw-data-jun14-sample.csv  \n",
            "  inflating: __MACOSX/data/._uber-raw-data-jun14-sample.csv  \n",
            "  inflating: data/heroes_information.csv  \n",
            "  inflating: __MACOSX/data/._heroes_information.csv  \n",
            "  inflating: data/employee.csv       \n",
            "  inflating: __MACOSX/data/._employee.csv  \n",
            "  inflating: data/uber-raw-data-apr14-sample.csv  \n",
            "  inflating: __MACOSX/data/._uber-raw-data-apr14-sample.csv  \n",
            "   creating: data/baseball/\n",
            "  inflating: __MACOSX/data/._baseball  \n",
            "  inflating: data/uber-raw-data-may14-sample.csv  \n",
            "  inflating: __MACOSX/data/._uber-raw-data-may14-sample.csv  \n",
            "  inflating: data/auto_sales_apr.csv  \n",
            "  inflating: __MACOSX/data/._auto_sales_apr.csv  \n",
            "  inflating: data/uber-raw-data-sep14-sample.csv  \n",
            "  inflating: __MACOSX/data/._uber-raw-data-sep14-sample.csv  \n",
            "  inflating: data/department.csv     \n",
            "  inflating: __MACOSX/data/._department.csv  \n",
            "  inflating: data/PEW_income_religion.csv  \n",
            "  inflating: __MACOSX/data/._PEW_income_religion.csv  \n",
            "  inflating: data/health_survey.csv  \n",
            "  inflating: __MACOSX/data/._health_survey.csv  \n",
            "  inflating: data/super_hero_powers.csv  \n",
            "  inflating: __MACOSX/data/._super_hero_powers.csv  \n",
            "  inflating: data/TB_bad.csv         \n",
            "  inflating: __MACOSX/data/._TB_bad.csv  \n",
            "  inflating: data/uber-raw-data-aug14-sample.csv  \n",
            "  inflating: __MACOSX/data/._uber-raw-data-aug14-sample.csv  \n",
            "  inflating: data/uber-raw-data-jul14-sample.csv  \n",
            "  inflating: __MACOSX/data/._uber-raw-data-jul14-sample.csv  \n",
            "  inflating: data/auto_sales_may.csv  \n",
            "  inflating: __MACOSX/data/._auto_sales_may.csv  \n",
            "  inflating: data/auto_sales.csv     \n",
            "  inflating: __MACOSX/data/._auto_sales.csv  \n",
            "  inflating: data/Rochester_temps_2019.csv  \n",
            "  inflating: __MACOSX/data/._Rochester_temps_2019.csv  \n",
            "   creating: data/baseball/core/\n",
            "  inflating: __MACOSX/data/baseball/._core  \n",
            "  inflating: data/baseball/README.txt  \n",
            "  inflating: __MACOSX/data/baseball/._README.txt  \n",
            "   creating: data/baseball/upstream/\n",
            "  inflating: __MACOSX/data/baseball/._upstream  \n",
            "  inflating: data/baseball/core/AwardsManagers.csv  \n",
            "  inflating: __MACOSX/data/baseball/core/._AwardsManagers.csv  \n",
            "  inflating: data/baseball/core/Managers.csv  \n",
            "  inflating: __MACOSX/data/baseball/core/._Managers.csv  \n",
            "  inflating: data/baseball/core/AwardsPlayers.csv  \n",
            "  inflating: __MACOSX/data/baseball/core/._AwardsPlayers.csv  \n",
            "  inflating: data/baseball/core/Fielding.csv  \n",
            "  inflating: __MACOSX/data/baseball/core/._Fielding.csv  \n",
            "  inflating: data/baseball/core/Salaries.csv  \n",
            "  inflating: __MACOSX/data/baseball/core/._Salaries.csv  \n",
            "  inflating: data/baseball/core/Parks.csv  \n",
            "  inflating: __MACOSX/data/baseball/core/._Parks.csv  \n",
            "  inflating: data/baseball/core/Schools.csv  \n",
            "  inflating: __MACOSX/data/baseball/core/._Schools.csv  \n",
            "  inflating: data/baseball/core/People.csv  \n",
            "  inflating: __MACOSX/data/baseball/core/._People.csv  \n",
            "  inflating: data/baseball/core/PitchingPost.csv  \n",
            "  inflating: __MACOSX/data/baseball/core/._PitchingPost.csv  \n",
            "  inflating: data/baseball/core/Teams.csv  \n",
            "  inflating: __MACOSX/data/baseball/core/._Teams.csv  \n",
            "  inflating: data/baseball/core/Appearances.csv  \n",
            "  inflating: __MACOSX/data/baseball/core/._Appearances.csv  \n",
            "  inflating: data/baseball/core/AwardsSharePlayers.csv  \n",
            "  inflating: __MACOSX/data/baseball/core/._AwardsSharePlayers.csv  \n",
            "  inflating: data/baseball/core/TeamsFranchises.csv  \n",
            "  inflating: __MACOSX/data/baseball/core/._TeamsFranchises.csv  \n",
            "  inflating: data/baseball/core/Batting.csv  \n",
            "  inflating: __MACOSX/data/baseball/core/._Batting.csv  \n",
            "  inflating: data/baseball/core/ManagersHalf.csv  \n",
            "  inflating: __MACOSX/data/baseball/core/._ManagersHalf.csv  \n",
            "  inflating: data/baseball/core/FieldingOF.csv  \n",
            "  inflating: __MACOSX/data/baseball/core/._FieldingOF.csv  \n",
            "  inflating: data/baseball/core/Pitching.csv  \n",
            "  inflating: __MACOSX/data/baseball/core/._Pitching.csv  \n",
            "  inflating: data/baseball/core/CollegePlaying.csv  \n",
            "  inflating: __MACOSX/data/baseball/core/._CollegePlaying.csv  \n",
            "  inflating: data/baseball/core/HomeGames.csv  \n",
            "  inflating: __MACOSX/data/baseball/core/._HomeGames.csv  \n",
            "  inflating: data/baseball/core/HallOfFame.csv  \n",
            "  inflating: __MACOSX/data/baseball/core/._HallOfFame.csv  \n",
            "  inflating: data/baseball/core/readme2014.txt  \n",
            "  inflating: __MACOSX/data/baseball/core/._readme2014.txt  \n",
            "  inflating: data/baseball/core/AwardsShareManagers.csv  \n",
            "  inflating: __MACOSX/data/baseball/core/._AwardsShareManagers.csv  \n",
            "  inflating: data/baseball/core/BattingPost.csv  \n",
            "  inflating: __MACOSX/data/baseball/core/._BattingPost.csv  \n",
            "  inflating: data/baseball/core/TeamsHalf.csv  \n",
            "  inflating: __MACOSX/data/baseball/core/._TeamsHalf.csv  \n",
            "  inflating: data/baseball/core/SeriesPost.csv  \n",
            "  inflating: __MACOSX/data/baseball/core/._SeriesPost.csv  \n",
            "  inflating: data/baseball/core/FieldingPost.csv  \n",
            "  inflating: __MACOSX/data/baseball/core/._FieldingPost.csv  \n",
            "  inflating: data/baseball/core/AllstarFull.csv  \n",
            "  inflating: __MACOSX/data/baseball/core/._AllstarFull.csv  \n",
            "  inflating: data/baseball/core/FieldingOFsplit.csv  \n",
            "  inflating: __MACOSX/data/baseball/core/._FieldingOFsplit.csv  \n",
            "  inflating: data/baseball/upstream/Teams.csv  \n",
            "  inflating: __MACOSX/data/baseball/upstream/._Teams.csv  \n"
          ]
        }
      ]
    },
    {
      "cell_type": "code",
      "source": [
        "!ls ./data"
      ],
      "metadata": {
        "colab": {
          "base_uri": "https://localhost:8080/"
        },
        "id": "FaMPXjspTAJG",
        "outputId": "5903f911-60df-4a97-8788-acaa6e62fde6"
      },
      "execution_count": null,
      "outputs": [
        {
          "output_type": "stream",
          "name": "stdout",
          "text": [
            "auto_sales_apr.csv\t  Rochester_temps_2019.xlsx\n",
            "auto_sales.csv\t\t  super_hero_powers.csv\n",
            "auto_sales_may.csv\t  TB_bad.csv\n",
            "baseball\t\t  uber-raw-data-apr14-sample.csv\n",
            "department.csv\t\t  uber-raw-data-aug14-sample.csv\n",
            "employee.csv\t\t  uber-raw-data-jul14-sample.csv\n",
            "health_survey.csv\t  uber-raw-data-jun14-sample.csv\n",
            "heroes_information.csv\t  uber-raw-data-may14-sample.csv\n",
            "PEW_income_religion.csv   uber-raw-data-sep14-sample.csv\n",
            "Rochester_temps_2019.csv\n"
          ]
        }
      ]
    },
    {
      "cell_type": "code",
      "source": [
        "!wget https://github.com/wsu-stat489/module5_intro_to_pyspark/raw/main/more_pyspark.py"
      ],
      "metadata": {
        "colab": {
          "base_uri": "https://localhost:8080/"
        },
        "id": "q9vIjFLEThRO",
        "outputId": "1c3679da-d89c-4c4b-8b83-6a2840e7cd84"
      },
      "execution_count": null,
      "outputs": [
        {
          "output_type": "stream",
          "name": "stdout",
          "text": [
            "--2022-10-25 00:37:11--  https://github.com/wsu-stat489/module5_intro_to_pyspark/raw/main/more_pyspark.py\n",
            "Resolving github.com (github.com)... 192.30.255.112\n",
            "Connecting to github.com (github.com)|192.30.255.112|:443... connected.\n",
            "HTTP request sent, awaiting response... 302 Found\n",
            "Location: https://raw.githubusercontent.com/wsu-stat489/module5_intro_to_pyspark/main/more_pyspark.py [following]\n",
            "--2022-10-25 00:37:11--  https://raw.githubusercontent.com/wsu-stat489/module5_intro_to_pyspark/main/more_pyspark.py\n",
            "Resolving raw.githubusercontent.com (raw.githubusercontent.com)... 185.199.111.133, 185.199.109.133, 185.199.110.133, ...\n",
            "Connecting to raw.githubusercontent.com (raw.githubusercontent.com)|185.199.111.133|:443... connected.\n",
            "HTTP request sent, awaiting response... 200 OK\n",
            "Length: 2786 (2.7K) [text/plain]\n",
            "Saving to: ‘more_pyspark.py’\n",
            "\n",
            "more_pyspark.py     100%[===================>]   2.72K  --.-KB/s    in 0s      \n",
            "\n",
            "2022-10-25 00:37:11 (29.7 MB/s) - ‘more_pyspark.py’ saved [2786/2786]\n",
            "\n"
          ]
        }
      ]
    },
    {
      "cell_type": "markdown",
      "metadata": {
        "id": "HmGoJGPARy2q"
      },
      "source": [
        "# Introduction to `pyspark.sql.DataFrame`s\n",
        "\n",
        "Adapted from [Databrick's tutorial](https://docs.databricks.com/spark/latest/dataframes-datasets/introduction-to-dataframes-python.html)"
      ]
    },
    {
      "cell_type": "code",
      "execution_count": null,
      "metadata": {
        "id": "L5K2nZoKRy2u"
      },
      "outputs": [],
      "source": [
        "# import pyspark class Row from module sql\n",
        "from pyspark.sql import *"
      ]
    },
    {
      "cell_type": "markdown",
      "metadata": {
        "id": "D24uSpsiRy2v"
      },
      "source": [
        "## What is spark?\n",
        "\n",
        "* Build for the Hadoop platform\n",
        "* Replacement of MapReduce\n",
        "* Second-generation optimization\n",
        "    * Lazy\n",
        "    * Optimized\n",
        "    * Persistent data structures\n",
        "* Written in scala"
      ]
    },
    {
      "cell_type": "markdown",
      "metadata": {
        "id": "Uw5GmuzoRy2v"
      },
      "source": [
        "## Ok ... so what's Hadoop?\n",
        "\n",
        "* Distributed computing platform\n",
        "* [Used by lots of companies](https://wiki.apache.org/hadoop/PoweredBy)\n",
        "* Becoming an industry standard\n"
      ]
    },
    {
      "cell_type": "markdown",
      "metadata": {
        "id": "9qkETupURy2w"
      },
      "source": [
        "## What is `pyspark`?\n",
        "\n",
        "* Python interface to spark\n",
        "* Needs a spark session\n",
        "    * `session` $\\leftrightarrow$ spark\n"
      ]
    },
    {
      "cell_type": "markdown",
      "metadata": {
        "id": "8v26KFc3Ry2w"
      },
      "source": [
        "## Step 0 - Create a spark session\n",
        "\n",
        "* `pyspark` communicates with `spark` through a session\n",
        "* Similar to `sqlalchemy` session."
      ]
    },
    {
      "cell_type": "code",
      "execution_count": null,
      "metadata": {
        "id": "inmnI_3_Ry2x"
      },
      "outputs": [],
      "source": [
        "spark = SparkSession.builder.appName('Ops').getOrCreate()"
      ]
    },
    {
      "cell_type": "markdown",
      "metadata": {
        "id": "bZct8N4PRy2y"
      },
      "source": [
        "## Overview -  `pyspark.DataFrame`\n",
        "\n",
        "* A `DataFrame` is a collection of `Row`s\n",
        "* `Row`s can be distributed over many machines\n",
        "* `spark`\n",
        "    * Hides the messy details\n",
        "    * Optimizes operations"
      ]
    },
    {
      "cell_type": "markdown",
      "metadata": {
        "id": "J_00BgsBRy2z"
      },
      "source": [
        "## Creating a `Row` of data\n",
        "\n",
        "* Use the `Row` class\n",
        "* Pass data using keywords\n",
        "    * key == column name\n",
        "    * value == cell value"
      ]
    },
    {
      "cell_type": "code",
      "execution_count": null,
      "metadata": {
        "colab": {
          "base_uri": "https://localhost:8080/"
        },
        "id": "nYA3aFPZRy2z",
        "outputId": "becff44c-fcea-4117-a3a9-bcd2a3af38be"
      },
      "outputs": [
        {
          "output_type": "execute_result",
          "data": {
            "text/plain": [
              "Row(id='123456', name='Computer Science')"
            ]
          },
          "metadata": {},
          "execution_count": 11
        }
      ],
      "source": [
        "department1 = Row(id='123456', name='Computer Science')\n",
        "department1"
      ]
    },
    {
      "cell_type": "markdown",
      "metadata": {
        "id": "v2IUtKK2Ry20"
      },
      "source": [
        "## Unpacking a `Row` dictionary\n",
        "\n",
        "* Data is in a row dictionary\n",
        "* Unpack keywords using `**`"
      ]
    },
    {
      "cell_type": "code",
      "execution_count": null,
      "metadata": {
        "scrolled": true,
        "colab": {
          "base_uri": "https://localhost:8080/"
        },
        "id": "Sh10MUdoRy20",
        "outputId": "873aee3b-02d3-4010-9c9a-3c659e3045dc"
      },
      "outputs": [
        {
          "output_type": "execute_result",
          "data": {
            "text/plain": [
              "Row(id='789012', name='Mechanical Engineering')"
            ]
          },
          "metadata": {},
          "execution_count": 12
        }
      ],
      "source": [
        "dept2_info = {'id':'789012', 'name':'Mechanical Engineering'}\n",
        "department2 = Row(**dept2_info)\n",
        "department2"
      ]
    },
    {
      "cell_type": "markdown",
      "metadata": {
        "id": "3rgaAdSMRy21"
      },
      "source": [
        "## Unpacking a list of row dictionaries"
      ]
    },
    {
      "cell_type": "code",
      "execution_count": null,
      "metadata": {
        "scrolled": true,
        "colab": {
          "base_uri": "https://localhost:8080/"
        },
        "id": "8zphHlUuRy22",
        "outputId": "56ab7d0c-6041-4fb3-fdd4-ca40fddf79e3"
      },
      "outputs": [
        {
          "output_type": "execute_result",
          "data": {
            "text/plain": [
              "[Row(id=123456, name='Computer Science'),\n",
              " Row(id=789012, name='Mechanical Engineering'),\n",
              " Row(id=345678, name='Theater and Drama'),\n",
              " Row(id=901234, name='Indoor Recreation')]"
            ]
          },
          "metadata": {},
          "execution_count": 13
        }
      ],
      "source": [
        "dept_info = [{'id':123456, 'name':'Computer Science'},\n",
        "             {'id':789012, 'name':'Mechanical Engineering'},\n",
        "             {'id':345678, 'name':'Theater and Drama'},\n",
        "             {'id':901234, 'name':'Indoor Recreation'}]\n",
        "\n",
        "dept_rows = [Row(**r) for r in dept_info]\n",
        "dept_rows"
      ]
    },
    {
      "cell_type": "markdown",
      "metadata": {
        "id": "qfuTevyXRy23"
      },
      "source": [
        "## Access `Row` content with column attributes"
      ]
    },
    {
      "cell_type": "code",
      "execution_count": null,
      "metadata": {
        "colab": {
          "base_uri": "https://localhost:8080/"
        },
        "id": "hmfDZh-_Ry23",
        "outputId": "698c07b1-0c5e-47ed-dcfb-2ee720bd57a4"
      },
      "outputs": [
        {
          "output_type": "execute_result",
          "data": {
            "text/plain": [
              "[123456, 789012, 345678, 901234]"
            ]
          },
          "metadata": {},
          "execution_count": 14
        }
      ],
      "source": [
        "[dept.id for dept in dept_rows]"
      ]
    },
    {
      "cell_type": "code",
      "execution_count": null,
      "metadata": {
        "scrolled": true,
        "colab": {
          "base_uri": "https://localhost:8080/"
        },
        "id": "udaaiTSfRy24",
        "outputId": "511aeb34-21a0-4687-bd43-2d23717d0c9e"
      },
      "outputs": [
        {
          "output_type": "execute_result",
          "data": {
            "text/plain": [
              "['Computer Science',\n",
              " 'Mechanical Engineering',\n",
              " 'Theater and Drama',\n",
              " 'Indoor Recreation']"
            ]
          },
          "metadata": {},
          "execution_count": 15
        }
      ],
      "source": [
        "[dept.name for dept in dept_rows]"
      ]
    },
    {
      "cell_type": "markdown",
      "metadata": {
        "id": "DqRGmJk4Ry25"
      },
      "source": [
        "## Creating a `pyspark.DataFrame`\n",
        "\n",
        "* A `DataFrame` is a collection of `Row`s\n",
        "* Create with spark.createDataFrame\n",
        "* Need to have a "
      ]
    },
    {
      "cell_type": "code",
      "execution_count": null,
      "metadata": {
        "colab": {
          "base_uri": "https://localhost:8080/"
        },
        "id": "2h-qJ8rbRy25",
        "outputId": "3d7a126d-27de-4bc8-8da8-33b04e366343"
      },
      "outputs": [
        {
          "output_type": "execute_result",
          "data": {
            "text/plain": [
              "DataFrame[id: bigint, name: string]"
            ]
          },
          "metadata": {},
          "execution_count": 16
        }
      ],
      "source": [
        "df = spark.createDataFrame(dept_rows)\n",
        "df"
      ]
    },
    {
      "cell_type": "markdown",
      "metadata": {
        "id": "jKVuBwbtRy26"
      },
      "source": [
        "## How to think about a `pyspark.DataFrame`\n",
        "\n",
        "<img src=\"https://github.com/wsu-stat489/module5_intro_to_pyspark/blob/main/img/pyspark_df.png?raw=1\" width=600>"
      ]
    },
    {
      "cell_type": "markdown",
      "metadata": {
        "id": "BLf4rjDrRy26"
      },
      "source": [
        "## Example - `filter` and `collect`"
      ]
    },
    {
      "cell_type": "code",
      "execution_count": null,
      "metadata": {
        "colab": {
          "base_uri": "https://localhost:8080/"
        },
        "id": "LzYR0pU2Ry27",
        "outputId": "5d42c802-c1c3-4a93-ad92-138ef988e421"
      },
      "outputs": [
        {
          "output_type": "execute_result",
          "data": {
            "text/plain": [
              "[Row(id=123456, name='Computer Science')]"
            ]
          },
          "metadata": {},
          "execution_count": 17
        }
      ],
      "source": [
        "output = (df\n",
        "            .filter(df.name.startswith('C'))\n",
        "            .collect())\n",
        "output"
      ]
    },
    {
      "cell_type": "markdown",
      "metadata": {
        "id": "q9SJPtXWRy27"
      },
      "source": [
        "## Why is `pyspark` so slow\n",
        "\n",
        "* Optimized for \n",
        "    * Distributed computation\n",
        "    * Big data \n",
        "* Not great for\n",
        "    * Local work\n",
        "    * Small data"
      ]
    },
    {
      "cell_type": "markdown",
      "metadata": {
        "id": "ZeGQ8V3WRy28"
      },
      "source": [
        "## `filter` and `collect` illustrated\n",
        "\n",
        "<img src=\"https://github.com/wsu-stat489/module5_intro_to_pyspark/blob/main/img/pyspark_filter_collect.gif?raw=1\" width=600>"
      ]
    },
    {
      "cell_type": "markdown",
      "metadata": {
        "id": "BKrVK7sARy28"
      },
      "source": [
        "## Reading a `csv` file with `spark.read.csv`"
      ]
    },
    {
      "cell_type": "code",
      "execution_count": null,
      "metadata": {
        "colab": {
          "base_uri": "https://localhost:8080/"
        },
        "id": "DhbWSRcWRy29",
        "outputId": "f39d72ee-db14-44fa-a5ad-97e85901bc76"
      },
      "outputs": [
        {
          "output_type": "execute_result",
          "data": {
            "text/plain": [
              "DataFrame[_c0: string, name: string, Gender: string, Eye color: string, Race: string, Hair color: string, Height: string, Publisher: string, Skin color: string, Alignment: string, Weight: string]"
            ]
          },
          "metadata": {},
          "execution_count": 18
        }
      ],
      "source": [
        "heros = spark.read.csv('./data/heroes_information.csv', header=True)\n",
        "heros"
      ]
    },
    {
      "cell_type": "markdown",
      "metadata": {
        "id": "qeWlqKJhRy29"
      },
      "source": [
        "## Inspecting the column types"
      ]
    },
    {
      "cell_type": "code",
      "execution_count": null,
      "metadata": {
        "colab": {
          "base_uri": "https://localhost:8080/"
        },
        "id": "UxukDxMURy2-",
        "outputId": "38394bfa-b504-4534-d5f7-e125ce08e57a"
      },
      "outputs": [
        {
          "output_type": "stream",
          "name": "stdout",
          "text": [
            "root\n",
            " |-- _c0: string (nullable = true)\n",
            " |-- name: string (nullable = true)\n",
            " |-- Gender: string (nullable = true)\n",
            " |-- Eye color: string (nullable = true)\n",
            " |-- Race: string (nullable = true)\n",
            " |-- Hair color: string (nullable = true)\n",
            " |-- Height: string (nullable = true)\n",
            " |-- Publisher: string (nullable = true)\n",
            " |-- Skin color: string (nullable = true)\n",
            " |-- Alignment: string (nullable = true)\n",
            " |-- Weight: string (nullable = true)\n",
            "\n"
          ]
        }
      ],
      "source": [
        "heros.printSchema()"
      ]
    },
    {
      "cell_type": "markdown",
      "metadata": {
        "id": "m_fo_qJRRy2-"
      },
      "source": [
        "## Gathering results in `pyspark.sql`\n",
        "\n",
        "* **Important fact** All `pyspark` queries end in a collection method\n",
        "* **Why?** Data is (possibly) spread across many machines\n",
        "* <font color = \"red\"> **Warning** This might be is *expensive*! Know how much data your are requesting! </font>"
      ]
    },
    {
      "cell_type": "markdown",
      "metadata": {
        "id": "w0RzEUbPRy2_"
      },
      "source": [
        "## Gathering methods\n",
        "\n",
        "* `collect` returns all values\n",
        "* `take(n)` returns the first `n` values \n",
        "* `sample(n)` returns `n` randomly selected values "
      ]
    },
    {
      "cell_type": "markdown",
      "metadata": {
        "id": "6ps4FCptRy2_"
      },
      "source": [
        "## Inspecting the content - `take`"
      ]
    },
    {
      "cell_type": "code",
      "execution_count": null,
      "metadata": {
        "colab": {
          "base_uri": "https://localhost:8080/"
        },
        "id": "ChQBZx0DRy3A",
        "outputId": "ffd3faab-5f21-47ca-863c-6409389dce1b"
      },
      "outputs": [
        {
          "output_type": "execute_result",
          "data": {
            "text/plain": [
              "[Row(_c0='0', name='A-Bomb', Gender='Male', Eye color='yellow', Race='Human', Hair color='No Hair', Height='203.0', Publisher='Marvel Comics', Skin color='-', Alignment='good', Weight='441.0'),\n",
              " Row(_c0='1', name='Abe Sapien', Gender='Male', Eye color='blue', Race='Icthyo Sapien', Hair color='No Hair', Height='191.0', Publisher='Dark Horse Comics', Skin color='blue', Alignment='good', Weight='65.0'),\n",
              " Row(_c0='2', name='Abin Sur', Gender='Male', Eye color='blue', Race='Ungaran', Hair color='No Hair', Height='185.0', Publisher='DC Comics', Skin color='red', Alignment='good', Weight='90.0'),\n",
              " Row(_c0='3', name='Abomination', Gender='Male', Eye color='green', Race='Human / Radiation', Hair color='No Hair', Height='203.0', Publisher='Marvel Comics', Skin color='-', Alignment='bad', Weight='441.0'),\n",
              " Row(_c0='4', name='Abraxas', Gender='Male', Eye color='blue', Race='Cosmic Entity', Hair color='Black', Height='-99.0', Publisher='Marvel Comics', Skin color='-', Alignment='bad', Weight='-99.0')]"
            ]
          },
          "metadata": {},
          "execution_count": 20
        }
      ],
      "source": [
        "heros.take(5)"
      ]
    },
    {
      "cell_type": "markdown",
      "metadata": {
        "id": "kVUEEQsoRy3B"
      },
      "source": [
        "## Inspecting the content - `sample`"
      ]
    },
    {
      "cell_type": "code",
      "execution_count": null,
      "metadata": {
        "colab": {
          "base_uri": "https://localhost:8080/"
        },
        "id": "Ukr-YV_dRy3C",
        "outputId": "2bcf9847-85d2-4593-b587-4192c2bd8fce"
      },
      "outputs": [
        {
          "output_type": "execute_result",
          "data": {
            "text/plain": [
              "[Row(_c0='36', name='Aqualad', Gender='Male', Eye color='blue', Race='Atlantean', Hair color='Black', Height='178.0', Publisher='DC Comics', Skin color='-', Alignment='good', Weight='106.0'),\n",
              " Row(_c0='433', name='Marvel Girl', Gender='Female', Eye color='green', Race='-', Hair color='Red', Height='170.0', Publisher='Marvel Comics', Skin color='-', Alignment='good', Weight='56.0'),\n",
              " Row(_c0='646', name='Superman', Gender='Male', Eye color='blue', Race='Kryptonian', Hair color='Black', Height='191.0', Publisher='DC Comics', Skin color='-', Alignment='good', Weight='101.0')]"
            ]
          },
          "metadata": {},
          "execution_count": 21
        }
      ],
      "source": [
        "sample = heros.sample(fraction=0.01).collect()\n",
        "sample"
      ]
    },
    {
      "cell_type": "markdown",
      "metadata": {
        "id": "OZEph9zKRy3E"
      },
      "source": [
        "## Switching to a `pd.DataFrame` (because that was UGLY)\n",
        "\n",
        "You can pipe the results into `more_pyspark.to_pandas` to get the results in a dataframe"
      ]
    },
    {
      "cell_type": "code",
      "execution_count": null,
      "metadata": {
        "colab": {
          "base_uri": "https://localhost:8080/",
          "height": 240
        },
        "id": "KO5n3TRMRy3F",
        "outputId": "baf87a0d-5723-4f4d-9a7b-06667ebcdcc8"
      },
      "outputs": [
        {
          "output_type": "execute_result",
          "data": {
            "text/plain": [
              "   _c0         name  Gender Eye color        Race Hair color Height  \\\n",
              "0   36      Aqualad    Male      blue   Atlantean      Black  178.0   \n",
              "1  433  Marvel Girl  Female     green           -        Red  170.0   \n",
              "2  646     Superman    Male      blue  Kryptonian      Black  191.0   \n",
              "\n",
              "       Publisher Skin color Alignment Weight  \n",
              "0      DC Comics          -      good  106.0  \n",
              "1  Marvel Comics          -      good   56.0  \n",
              "2      DC Comics          -      good  101.0  "
            ],
            "text/html": [
              "\n",
              "  <div id=\"df-b2b08c46-754e-4ca1-8481-73902f177626\">\n",
              "    <div class=\"colab-df-container\">\n",
              "      <div>\n",
              "<style scoped>\n",
              "    .dataframe tbody tr th:only-of-type {\n",
              "        vertical-align: middle;\n",
              "    }\n",
              "\n",
              "    .dataframe tbody tr th {\n",
              "        vertical-align: top;\n",
              "    }\n",
              "\n",
              "    .dataframe thead th {\n",
              "        text-align: right;\n",
              "    }\n",
              "</style>\n",
              "<table border=\"1\" class=\"dataframe\">\n",
              "  <thead>\n",
              "    <tr style=\"text-align: right;\">\n",
              "      <th></th>\n",
              "      <th>_c0</th>\n",
              "      <th>name</th>\n",
              "      <th>Gender</th>\n",
              "      <th>Eye color</th>\n",
              "      <th>Race</th>\n",
              "      <th>Hair color</th>\n",
              "      <th>Height</th>\n",
              "      <th>Publisher</th>\n",
              "      <th>Skin color</th>\n",
              "      <th>Alignment</th>\n",
              "      <th>Weight</th>\n",
              "    </tr>\n",
              "  </thead>\n",
              "  <tbody>\n",
              "    <tr>\n",
              "      <th>0</th>\n",
              "      <td>36</td>\n",
              "      <td>Aqualad</td>\n",
              "      <td>Male</td>\n",
              "      <td>blue</td>\n",
              "      <td>Atlantean</td>\n",
              "      <td>Black</td>\n",
              "      <td>178.0</td>\n",
              "      <td>DC Comics</td>\n",
              "      <td>-</td>\n",
              "      <td>good</td>\n",
              "      <td>106.0</td>\n",
              "    </tr>\n",
              "    <tr>\n",
              "      <th>1</th>\n",
              "      <td>433</td>\n",
              "      <td>Marvel Girl</td>\n",
              "      <td>Female</td>\n",
              "      <td>green</td>\n",
              "      <td>-</td>\n",
              "      <td>Red</td>\n",
              "      <td>170.0</td>\n",
              "      <td>Marvel Comics</td>\n",
              "      <td>-</td>\n",
              "      <td>good</td>\n",
              "      <td>56.0</td>\n",
              "    </tr>\n",
              "    <tr>\n",
              "      <th>2</th>\n",
              "      <td>646</td>\n",
              "      <td>Superman</td>\n",
              "      <td>Male</td>\n",
              "      <td>blue</td>\n",
              "      <td>Kryptonian</td>\n",
              "      <td>Black</td>\n",
              "      <td>191.0</td>\n",
              "      <td>DC Comics</td>\n",
              "      <td>-</td>\n",
              "      <td>good</td>\n",
              "      <td>101.0</td>\n",
              "    </tr>\n",
              "  </tbody>\n",
              "</table>\n",
              "</div>\n",
              "      <button class=\"colab-df-convert\" onclick=\"convertToInteractive('df-b2b08c46-754e-4ca1-8481-73902f177626')\"\n",
              "              title=\"Convert this dataframe to an interactive table.\"\n",
              "              style=\"display:none;\">\n",
              "        \n",
              "  <svg xmlns=\"http://www.w3.org/2000/svg\" height=\"24px\"viewBox=\"0 0 24 24\"\n",
              "       width=\"24px\">\n",
              "    <path d=\"M0 0h24v24H0V0z\" fill=\"none\"/>\n",
              "    <path d=\"M18.56 5.44l.94 2.06.94-2.06 2.06-.94-2.06-.94-.94-2.06-.94 2.06-2.06.94zm-11 1L8.5 8.5l.94-2.06 2.06-.94-2.06-.94L8.5 2.5l-.94 2.06-2.06.94zm10 10l.94 2.06.94-2.06 2.06-.94-2.06-.94-.94-2.06-.94 2.06-2.06.94z\"/><path d=\"M17.41 7.96l-1.37-1.37c-.4-.4-.92-.59-1.43-.59-.52 0-1.04.2-1.43.59L10.3 9.45l-7.72 7.72c-.78.78-.78 2.05 0 2.83L4 21.41c.39.39.9.59 1.41.59.51 0 1.02-.2 1.41-.59l7.78-7.78 2.81-2.81c.8-.78.8-2.07 0-2.86zM5.41 20L4 18.59l7.72-7.72 1.47 1.35L5.41 20z\"/>\n",
              "  </svg>\n",
              "      </button>\n",
              "      \n",
              "  <style>\n",
              "    .colab-df-container {\n",
              "      display:flex;\n",
              "      flex-wrap:wrap;\n",
              "      gap: 12px;\n",
              "    }\n",
              "\n",
              "    .colab-df-convert {\n",
              "      background-color: #E8F0FE;\n",
              "      border: none;\n",
              "      border-radius: 50%;\n",
              "      cursor: pointer;\n",
              "      display: none;\n",
              "      fill: #1967D2;\n",
              "      height: 32px;\n",
              "      padding: 0 0 0 0;\n",
              "      width: 32px;\n",
              "    }\n",
              "\n",
              "    .colab-df-convert:hover {\n",
              "      background-color: #E2EBFA;\n",
              "      box-shadow: 0px 1px 2px rgba(60, 64, 67, 0.3), 0px 1px 3px 1px rgba(60, 64, 67, 0.15);\n",
              "      fill: #174EA6;\n",
              "    }\n",
              "\n",
              "    [theme=dark] .colab-df-convert {\n",
              "      background-color: #3B4455;\n",
              "      fill: #D2E3FC;\n",
              "    }\n",
              "\n",
              "    [theme=dark] .colab-df-convert:hover {\n",
              "      background-color: #434B5C;\n",
              "      box-shadow: 0px 1px 3px 1px rgba(0, 0, 0, 0.15);\n",
              "      filter: drop-shadow(0px 1px 2px rgba(0, 0, 0, 0.3));\n",
              "      fill: #FFFFFF;\n",
              "    }\n",
              "  </style>\n",
              "\n",
              "      <script>\n",
              "        const buttonEl =\n",
              "          document.querySelector('#df-b2b08c46-754e-4ca1-8481-73902f177626 button.colab-df-convert');\n",
              "        buttonEl.style.display =\n",
              "          google.colab.kernel.accessAllowed ? 'block' : 'none';\n",
              "\n",
              "        async function convertToInteractive(key) {\n",
              "          const element = document.querySelector('#df-b2b08c46-754e-4ca1-8481-73902f177626');\n",
              "          const dataTable =\n",
              "            await google.colab.kernel.invokeFunction('convertToInteractive',\n",
              "                                                     [key], {});\n",
              "          if (!dataTable) return;\n",
              "\n",
              "          const docLinkHtml = 'Like what you see? Visit the ' +\n",
              "            '<a target=\"_blank\" href=https://colab.research.google.com/notebooks/data_table.ipynb>data table notebook</a>'\n",
              "            + ' to learn more about interactive tables.';\n",
              "          element.innerHTML = '';\n",
              "          dataTable['output_type'] = 'display_data';\n",
              "          await google.colab.output.renderOutput(dataTable, element);\n",
              "          const docLink = document.createElement('div');\n",
              "          docLink.innerHTML = docLinkHtml;\n",
              "          element.appendChild(docLink);\n",
              "        }\n",
              "      </script>\n",
              "    </div>\n",
              "  </div>\n",
              "  "
            ]
          },
          "metadata": {},
          "execution_count": 22
        }
      ],
      "source": [
        "from more_pyspark import to_pandas\n",
        "\n",
        "sample >> to_pandas"
      ]
    },
    {
      "cell_type": "markdown",
      "metadata": {
        "id": "D1JXCbBURy3G"
      },
      "source": [
        "## Getting all results with `collect`\n",
        "\n",
        "<font color = \"red\"> **Warning** This might be is *expensive*! Know how much data your are requesting! </font> \n",
        "\n",
        "**The `collect` rule:** `count` before `collect`"
      ]
    },
    {
      "cell_type": "code",
      "execution_count": null,
      "metadata": {
        "colab": {
          "base_uri": "https://localhost:8080/",
          "height": 619
        },
        "id": "NxufdOWURy3G",
        "outputId": "78add7be-80c6-4251-eebd-a0f8cd3edb4f"
      },
      "outputs": [
        {
          "output_type": "execute_result",
          "data": {
            "text/plain": [
              "     _c0             name  Gender Eye color               Race  \\\n",
              "0      0           A-Bomb    Male    yellow              Human   \n",
              "1      1       Abe Sapien    Male      blue      Icthyo Sapien   \n",
              "2      2         Abin Sur    Male      blue            Ungaran   \n",
              "3      3      Abomination    Male     green  Human / Radiation   \n",
              "4      4          Abraxas    Male      blue      Cosmic Entity   \n",
              "..   ...              ...     ...       ...                ...   \n",
              "729  729  Yellowjacket II  Female      blue              Human   \n",
              "730  730             Ymir    Male     white        Frost Giant   \n",
              "731  731             Yoda    Male     brown     Yoda's species   \n",
              "732  732          Zatanna  Female      blue              Human   \n",
              "733  733             Zoom    Male       red                  -   \n",
              "\n",
              "           Hair color Height          Publisher Skin color Alignment Weight  \n",
              "0             No Hair  203.0      Marvel Comics          -      good  441.0  \n",
              "1             No Hair  191.0  Dark Horse Comics       blue      good   65.0  \n",
              "2             No Hair  185.0          DC Comics        red      good   90.0  \n",
              "3             No Hair  203.0      Marvel Comics          -       bad  441.0  \n",
              "4               Black  -99.0      Marvel Comics          -       bad  -99.0  \n",
              "..                ...    ...                ...        ...       ...    ...  \n",
              "729  Strawberry Blond  165.0      Marvel Comics          -      good   52.0  \n",
              "730           No Hair  304.8      Marvel Comics      white      good  -99.0  \n",
              "731             White   66.0       George Lucas      green      good   17.0  \n",
              "732             Black  170.0          DC Comics          -      good   57.0  \n",
              "733             Brown  185.0          DC Comics          -       bad   81.0  \n",
              "\n",
              "[734 rows x 11 columns]"
            ],
            "text/html": [
              "\n",
              "  <div id=\"df-c9cafac5-00a4-4fcf-9992-1dbe7d762f71\">\n",
              "    <div class=\"colab-df-container\">\n",
              "      <div>\n",
              "<style scoped>\n",
              "    .dataframe tbody tr th:only-of-type {\n",
              "        vertical-align: middle;\n",
              "    }\n",
              "\n",
              "    .dataframe tbody tr th {\n",
              "        vertical-align: top;\n",
              "    }\n",
              "\n",
              "    .dataframe thead th {\n",
              "        text-align: right;\n",
              "    }\n",
              "</style>\n",
              "<table border=\"1\" class=\"dataframe\">\n",
              "  <thead>\n",
              "    <tr style=\"text-align: right;\">\n",
              "      <th></th>\n",
              "      <th>_c0</th>\n",
              "      <th>name</th>\n",
              "      <th>Gender</th>\n",
              "      <th>Eye color</th>\n",
              "      <th>Race</th>\n",
              "      <th>Hair color</th>\n",
              "      <th>Height</th>\n",
              "      <th>Publisher</th>\n",
              "      <th>Skin color</th>\n",
              "      <th>Alignment</th>\n",
              "      <th>Weight</th>\n",
              "    </tr>\n",
              "  </thead>\n",
              "  <tbody>\n",
              "    <tr>\n",
              "      <th>0</th>\n",
              "      <td>0</td>\n",
              "      <td>A-Bomb</td>\n",
              "      <td>Male</td>\n",
              "      <td>yellow</td>\n",
              "      <td>Human</td>\n",
              "      <td>No Hair</td>\n",
              "      <td>203.0</td>\n",
              "      <td>Marvel Comics</td>\n",
              "      <td>-</td>\n",
              "      <td>good</td>\n",
              "      <td>441.0</td>\n",
              "    </tr>\n",
              "    <tr>\n",
              "      <th>1</th>\n",
              "      <td>1</td>\n",
              "      <td>Abe Sapien</td>\n",
              "      <td>Male</td>\n",
              "      <td>blue</td>\n",
              "      <td>Icthyo Sapien</td>\n",
              "      <td>No Hair</td>\n",
              "      <td>191.0</td>\n",
              "      <td>Dark Horse Comics</td>\n",
              "      <td>blue</td>\n",
              "      <td>good</td>\n",
              "      <td>65.0</td>\n",
              "    </tr>\n",
              "    <tr>\n",
              "      <th>2</th>\n",
              "      <td>2</td>\n",
              "      <td>Abin Sur</td>\n",
              "      <td>Male</td>\n",
              "      <td>blue</td>\n",
              "      <td>Ungaran</td>\n",
              "      <td>No Hair</td>\n",
              "      <td>185.0</td>\n",
              "      <td>DC Comics</td>\n",
              "      <td>red</td>\n",
              "      <td>good</td>\n",
              "      <td>90.0</td>\n",
              "    </tr>\n",
              "    <tr>\n",
              "      <th>3</th>\n",
              "      <td>3</td>\n",
              "      <td>Abomination</td>\n",
              "      <td>Male</td>\n",
              "      <td>green</td>\n",
              "      <td>Human / Radiation</td>\n",
              "      <td>No Hair</td>\n",
              "      <td>203.0</td>\n",
              "      <td>Marvel Comics</td>\n",
              "      <td>-</td>\n",
              "      <td>bad</td>\n",
              "      <td>441.0</td>\n",
              "    </tr>\n",
              "    <tr>\n",
              "      <th>4</th>\n",
              "      <td>4</td>\n",
              "      <td>Abraxas</td>\n",
              "      <td>Male</td>\n",
              "      <td>blue</td>\n",
              "      <td>Cosmic Entity</td>\n",
              "      <td>Black</td>\n",
              "      <td>-99.0</td>\n",
              "      <td>Marvel Comics</td>\n",
              "      <td>-</td>\n",
              "      <td>bad</td>\n",
              "      <td>-99.0</td>\n",
              "    </tr>\n",
              "    <tr>\n",
              "      <th>...</th>\n",
              "      <td>...</td>\n",
              "      <td>...</td>\n",
              "      <td>...</td>\n",
              "      <td>...</td>\n",
              "      <td>...</td>\n",
              "      <td>...</td>\n",
              "      <td>...</td>\n",
              "      <td>...</td>\n",
              "      <td>...</td>\n",
              "      <td>...</td>\n",
              "      <td>...</td>\n",
              "    </tr>\n",
              "    <tr>\n",
              "      <th>729</th>\n",
              "      <td>729</td>\n",
              "      <td>Yellowjacket II</td>\n",
              "      <td>Female</td>\n",
              "      <td>blue</td>\n",
              "      <td>Human</td>\n",
              "      <td>Strawberry Blond</td>\n",
              "      <td>165.0</td>\n",
              "      <td>Marvel Comics</td>\n",
              "      <td>-</td>\n",
              "      <td>good</td>\n",
              "      <td>52.0</td>\n",
              "    </tr>\n",
              "    <tr>\n",
              "      <th>730</th>\n",
              "      <td>730</td>\n",
              "      <td>Ymir</td>\n",
              "      <td>Male</td>\n",
              "      <td>white</td>\n",
              "      <td>Frost Giant</td>\n",
              "      <td>No Hair</td>\n",
              "      <td>304.8</td>\n",
              "      <td>Marvel Comics</td>\n",
              "      <td>white</td>\n",
              "      <td>good</td>\n",
              "      <td>-99.0</td>\n",
              "    </tr>\n",
              "    <tr>\n",
              "      <th>731</th>\n",
              "      <td>731</td>\n",
              "      <td>Yoda</td>\n",
              "      <td>Male</td>\n",
              "      <td>brown</td>\n",
              "      <td>Yoda's species</td>\n",
              "      <td>White</td>\n",
              "      <td>66.0</td>\n",
              "      <td>George Lucas</td>\n",
              "      <td>green</td>\n",
              "      <td>good</td>\n",
              "      <td>17.0</td>\n",
              "    </tr>\n",
              "    <tr>\n",
              "      <th>732</th>\n",
              "      <td>732</td>\n",
              "      <td>Zatanna</td>\n",
              "      <td>Female</td>\n",
              "      <td>blue</td>\n",
              "      <td>Human</td>\n",
              "      <td>Black</td>\n",
              "      <td>170.0</td>\n",
              "      <td>DC Comics</td>\n",
              "      <td>-</td>\n",
              "      <td>good</td>\n",
              "      <td>57.0</td>\n",
              "    </tr>\n",
              "    <tr>\n",
              "      <th>733</th>\n",
              "      <td>733</td>\n",
              "      <td>Zoom</td>\n",
              "      <td>Male</td>\n",
              "      <td>red</td>\n",
              "      <td>-</td>\n",
              "      <td>Brown</td>\n",
              "      <td>185.0</td>\n",
              "      <td>DC Comics</td>\n",
              "      <td>-</td>\n",
              "      <td>bad</td>\n",
              "      <td>81.0</td>\n",
              "    </tr>\n",
              "  </tbody>\n",
              "</table>\n",
              "<p>734 rows × 11 columns</p>\n",
              "</div>\n",
              "      <button class=\"colab-df-convert\" onclick=\"convertToInteractive('df-c9cafac5-00a4-4fcf-9992-1dbe7d762f71')\"\n",
              "              title=\"Convert this dataframe to an interactive table.\"\n",
              "              style=\"display:none;\">\n",
              "        \n",
              "  <svg xmlns=\"http://www.w3.org/2000/svg\" height=\"24px\"viewBox=\"0 0 24 24\"\n",
              "       width=\"24px\">\n",
              "    <path d=\"M0 0h24v24H0V0z\" fill=\"none\"/>\n",
              "    <path d=\"M18.56 5.44l.94 2.06.94-2.06 2.06-.94-2.06-.94-.94-2.06-.94 2.06-2.06.94zm-11 1L8.5 8.5l.94-2.06 2.06-.94-2.06-.94L8.5 2.5l-.94 2.06-2.06.94zm10 10l.94 2.06.94-2.06 2.06-.94-2.06-.94-.94-2.06-.94 2.06-2.06.94z\"/><path d=\"M17.41 7.96l-1.37-1.37c-.4-.4-.92-.59-1.43-.59-.52 0-1.04.2-1.43.59L10.3 9.45l-7.72 7.72c-.78.78-.78 2.05 0 2.83L4 21.41c.39.39.9.59 1.41.59.51 0 1.02-.2 1.41-.59l7.78-7.78 2.81-2.81c.8-.78.8-2.07 0-2.86zM5.41 20L4 18.59l7.72-7.72 1.47 1.35L5.41 20z\"/>\n",
              "  </svg>\n",
              "      </button>\n",
              "      \n",
              "  <style>\n",
              "    .colab-df-container {\n",
              "      display:flex;\n",
              "      flex-wrap:wrap;\n",
              "      gap: 12px;\n",
              "    }\n",
              "\n",
              "    .colab-df-convert {\n",
              "      background-color: #E8F0FE;\n",
              "      border: none;\n",
              "      border-radius: 50%;\n",
              "      cursor: pointer;\n",
              "      display: none;\n",
              "      fill: #1967D2;\n",
              "      height: 32px;\n",
              "      padding: 0 0 0 0;\n",
              "      width: 32px;\n",
              "    }\n",
              "\n",
              "    .colab-df-convert:hover {\n",
              "      background-color: #E2EBFA;\n",
              "      box-shadow: 0px 1px 2px rgba(60, 64, 67, 0.3), 0px 1px 3px 1px rgba(60, 64, 67, 0.15);\n",
              "      fill: #174EA6;\n",
              "    }\n",
              "\n",
              "    [theme=dark] .colab-df-convert {\n",
              "      background-color: #3B4455;\n",
              "      fill: #D2E3FC;\n",
              "    }\n",
              "\n",
              "    [theme=dark] .colab-df-convert:hover {\n",
              "      background-color: #434B5C;\n",
              "      box-shadow: 0px 1px 3px 1px rgba(0, 0, 0, 0.15);\n",
              "      filter: drop-shadow(0px 1px 2px rgba(0, 0, 0, 0.3));\n",
              "      fill: #FFFFFF;\n",
              "    }\n",
              "  </style>\n",
              "\n",
              "      <script>\n",
              "        const buttonEl =\n",
              "          document.querySelector('#df-c9cafac5-00a4-4fcf-9992-1dbe7d762f71 button.colab-df-convert');\n",
              "        buttonEl.style.display =\n",
              "          google.colab.kernel.accessAllowed ? 'block' : 'none';\n",
              "\n",
              "        async function convertToInteractive(key) {\n",
              "          const element = document.querySelector('#df-c9cafac5-00a4-4fcf-9992-1dbe7d762f71');\n",
              "          const dataTable =\n",
              "            await google.colab.kernel.invokeFunction('convertToInteractive',\n",
              "                                                     [key], {});\n",
              "          if (!dataTable) return;\n",
              "\n",
              "          const docLinkHtml = 'Like what you see? Visit the ' +\n",
              "            '<a target=\"_blank\" href=https://colab.research.google.com/notebooks/data_table.ipynb>data table notebook</a>'\n",
              "            + ' to learn more about interactive tables.';\n",
              "          element.innerHTML = '';\n",
              "          dataTable['output_type'] = 'display_data';\n",
              "          await google.colab.output.renderOutput(dataTable, element);\n",
              "          const docLink = document.createElement('div');\n",
              "          docLink.innerHTML = docLinkHtml;\n",
              "          element.appendChild(docLink);\n",
              "        }\n",
              "      </script>\n",
              "    </div>\n",
              "  </div>\n",
              "  "
            ]
          },
          "metadata": {},
          "execution_count": 23
        }
      ],
      "source": [
        "heros.collect() >> to_pandas # <-- probably don't do this"
      ]
    },
    {
      "cell_type": "code",
      "execution_count": null,
      "metadata": {
        "colab": {
          "base_uri": "https://localhost:8080/",
          "height": 636
        },
        "id": "HJrELeDxRy3H",
        "outputId": "9ef55d4f-239f-4102-d2ab-a5d4b6d022e8"
      },
      "outputs": [
        {
          "output_type": "execute_result",
          "data": {
            "text/plain": [
              "     _c0             name  Gender Eye color           Race        Hair color  \\\n",
              "0      1       Abe Sapien    Male      blue  Icthyo Sapien           No Hair   \n",
              "1      2         Abin Sur    Male      blue        Ungaran           No Hair   \n",
              "2      4          Abraxas    Male      blue  Cosmic Entity             Black   \n",
              "3      5    Absorbing Man    Male      blue          Human           No Hair   \n",
              "4      6      Adam Monroe    Male      blue              -             Blond   \n",
              "..   ...              ...     ...       ...            ...               ...   \n",
              "220  726            X-Man    Male      blue              -             Brown   \n",
              "221  727      Yellow Claw    Male      blue              -           No Hair   \n",
              "222  728     Yellowjacket    Male      blue          Human             Blond   \n",
              "223  729  Yellowjacket II  Female      blue          Human  Strawberry Blond   \n",
              "224  732          Zatanna  Female      blue          Human             Black   \n",
              "\n",
              "    Height          Publisher Skin color Alignment Weight  \n",
              "0    191.0  Dark Horse Comics       blue      good   65.0  \n",
              "1    185.0          DC Comics        red      good   90.0  \n",
              "2    -99.0      Marvel Comics          -       bad  -99.0  \n",
              "3    193.0      Marvel Comics          -       bad  122.0  \n",
              "4    -99.0       NBC - Heroes          -      good  -99.0  \n",
              "..     ...                ...        ...       ...    ...  \n",
              "220  175.0      Marvel Comics          -      good   61.0  \n",
              "221  188.0      Marvel Comics          -       bad   95.0  \n",
              "222  183.0      Marvel Comics          -      good   83.0  \n",
              "223  165.0      Marvel Comics          -      good   52.0  \n",
              "224  170.0          DC Comics          -      good   57.0  \n",
              "\n",
              "[225 rows x 11 columns]"
            ],
            "text/html": [
              "\n",
              "  <div id=\"df-8dbfe9a6-6f29-4df8-b5b1-f33933ff2c9b\">\n",
              "    <div class=\"colab-df-container\">\n",
              "      <div>\n",
              "<style scoped>\n",
              "    .dataframe tbody tr th:only-of-type {\n",
              "        vertical-align: middle;\n",
              "    }\n",
              "\n",
              "    .dataframe tbody tr th {\n",
              "        vertical-align: top;\n",
              "    }\n",
              "\n",
              "    .dataframe thead th {\n",
              "        text-align: right;\n",
              "    }\n",
              "</style>\n",
              "<table border=\"1\" class=\"dataframe\">\n",
              "  <thead>\n",
              "    <tr style=\"text-align: right;\">\n",
              "      <th></th>\n",
              "      <th>_c0</th>\n",
              "      <th>name</th>\n",
              "      <th>Gender</th>\n",
              "      <th>Eye color</th>\n",
              "      <th>Race</th>\n",
              "      <th>Hair color</th>\n",
              "      <th>Height</th>\n",
              "      <th>Publisher</th>\n",
              "      <th>Skin color</th>\n",
              "      <th>Alignment</th>\n",
              "      <th>Weight</th>\n",
              "    </tr>\n",
              "  </thead>\n",
              "  <tbody>\n",
              "    <tr>\n",
              "      <th>0</th>\n",
              "      <td>1</td>\n",
              "      <td>Abe Sapien</td>\n",
              "      <td>Male</td>\n",
              "      <td>blue</td>\n",
              "      <td>Icthyo Sapien</td>\n",
              "      <td>No Hair</td>\n",
              "      <td>191.0</td>\n",
              "      <td>Dark Horse Comics</td>\n",
              "      <td>blue</td>\n",
              "      <td>good</td>\n",
              "      <td>65.0</td>\n",
              "    </tr>\n",
              "    <tr>\n",
              "      <th>1</th>\n",
              "      <td>2</td>\n",
              "      <td>Abin Sur</td>\n",
              "      <td>Male</td>\n",
              "      <td>blue</td>\n",
              "      <td>Ungaran</td>\n",
              "      <td>No Hair</td>\n",
              "      <td>185.0</td>\n",
              "      <td>DC Comics</td>\n",
              "      <td>red</td>\n",
              "      <td>good</td>\n",
              "      <td>90.0</td>\n",
              "    </tr>\n",
              "    <tr>\n",
              "      <th>2</th>\n",
              "      <td>4</td>\n",
              "      <td>Abraxas</td>\n",
              "      <td>Male</td>\n",
              "      <td>blue</td>\n",
              "      <td>Cosmic Entity</td>\n",
              "      <td>Black</td>\n",
              "      <td>-99.0</td>\n",
              "      <td>Marvel Comics</td>\n",
              "      <td>-</td>\n",
              "      <td>bad</td>\n",
              "      <td>-99.0</td>\n",
              "    </tr>\n",
              "    <tr>\n",
              "      <th>3</th>\n",
              "      <td>5</td>\n",
              "      <td>Absorbing Man</td>\n",
              "      <td>Male</td>\n",
              "      <td>blue</td>\n",
              "      <td>Human</td>\n",
              "      <td>No Hair</td>\n",
              "      <td>193.0</td>\n",
              "      <td>Marvel Comics</td>\n",
              "      <td>-</td>\n",
              "      <td>bad</td>\n",
              "      <td>122.0</td>\n",
              "    </tr>\n",
              "    <tr>\n",
              "      <th>4</th>\n",
              "      <td>6</td>\n",
              "      <td>Adam Monroe</td>\n",
              "      <td>Male</td>\n",
              "      <td>blue</td>\n",
              "      <td>-</td>\n",
              "      <td>Blond</td>\n",
              "      <td>-99.0</td>\n",
              "      <td>NBC - Heroes</td>\n",
              "      <td>-</td>\n",
              "      <td>good</td>\n",
              "      <td>-99.0</td>\n",
              "    </tr>\n",
              "    <tr>\n",
              "      <th>...</th>\n",
              "      <td>...</td>\n",
              "      <td>...</td>\n",
              "      <td>...</td>\n",
              "      <td>...</td>\n",
              "      <td>...</td>\n",
              "      <td>...</td>\n",
              "      <td>...</td>\n",
              "      <td>...</td>\n",
              "      <td>...</td>\n",
              "      <td>...</td>\n",
              "      <td>...</td>\n",
              "    </tr>\n",
              "    <tr>\n",
              "      <th>220</th>\n",
              "      <td>726</td>\n",
              "      <td>X-Man</td>\n",
              "      <td>Male</td>\n",
              "      <td>blue</td>\n",
              "      <td>-</td>\n",
              "      <td>Brown</td>\n",
              "      <td>175.0</td>\n",
              "      <td>Marvel Comics</td>\n",
              "      <td>-</td>\n",
              "      <td>good</td>\n",
              "      <td>61.0</td>\n",
              "    </tr>\n",
              "    <tr>\n",
              "      <th>221</th>\n",
              "      <td>727</td>\n",
              "      <td>Yellow Claw</td>\n",
              "      <td>Male</td>\n",
              "      <td>blue</td>\n",
              "      <td>-</td>\n",
              "      <td>No Hair</td>\n",
              "      <td>188.0</td>\n",
              "      <td>Marvel Comics</td>\n",
              "      <td>-</td>\n",
              "      <td>bad</td>\n",
              "      <td>95.0</td>\n",
              "    </tr>\n",
              "    <tr>\n",
              "      <th>222</th>\n",
              "      <td>728</td>\n",
              "      <td>Yellowjacket</td>\n",
              "      <td>Male</td>\n",
              "      <td>blue</td>\n",
              "      <td>Human</td>\n",
              "      <td>Blond</td>\n",
              "      <td>183.0</td>\n",
              "      <td>Marvel Comics</td>\n",
              "      <td>-</td>\n",
              "      <td>good</td>\n",
              "      <td>83.0</td>\n",
              "    </tr>\n",
              "    <tr>\n",
              "      <th>223</th>\n",
              "      <td>729</td>\n",
              "      <td>Yellowjacket II</td>\n",
              "      <td>Female</td>\n",
              "      <td>blue</td>\n",
              "      <td>Human</td>\n",
              "      <td>Strawberry Blond</td>\n",
              "      <td>165.0</td>\n",
              "      <td>Marvel Comics</td>\n",
              "      <td>-</td>\n",
              "      <td>good</td>\n",
              "      <td>52.0</td>\n",
              "    </tr>\n",
              "    <tr>\n",
              "      <th>224</th>\n",
              "      <td>732</td>\n",
              "      <td>Zatanna</td>\n",
              "      <td>Female</td>\n",
              "      <td>blue</td>\n",
              "      <td>Human</td>\n",
              "      <td>Black</td>\n",
              "      <td>170.0</td>\n",
              "      <td>DC Comics</td>\n",
              "      <td>-</td>\n",
              "      <td>good</td>\n",
              "      <td>57.0</td>\n",
              "    </tr>\n",
              "  </tbody>\n",
              "</table>\n",
              "<p>225 rows × 11 columns</p>\n",
              "</div>\n",
              "      <button class=\"colab-df-convert\" onclick=\"convertToInteractive('df-8dbfe9a6-6f29-4df8-b5b1-f33933ff2c9b')\"\n",
              "              title=\"Convert this dataframe to an interactive table.\"\n",
              "              style=\"display:none;\">\n",
              "        \n",
              "  <svg xmlns=\"http://www.w3.org/2000/svg\" height=\"24px\"viewBox=\"0 0 24 24\"\n",
              "       width=\"24px\">\n",
              "    <path d=\"M0 0h24v24H0V0z\" fill=\"none\"/>\n",
              "    <path d=\"M18.56 5.44l.94 2.06.94-2.06 2.06-.94-2.06-.94-.94-2.06-.94 2.06-2.06.94zm-11 1L8.5 8.5l.94-2.06 2.06-.94-2.06-.94L8.5 2.5l-.94 2.06-2.06.94zm10 10l.94 2.06.94-2.06 2.06-.94-2.06-.94-.94-2.06-.94 2.06-2.06.94z\"/><path d=\"M17.41 7.96l-1.37-1.37c-.4-.4-.92-.59-1.43-.59-.52 0-1.04.2-1.43.59L10.3 9.45l-7.72 7.72c-.78.78-.78 2.05 0 2.83L4 21.41c.39.39.9.59 1.41.59.51 0 1.02-.2 1.41-.59l7.78-7.78 2.81-2.81c.8-.78.8-2.07 0-2.86zM5.41 20L4 18.59l7.72-7.72 1.47 1.35L5.41 20z\"/>\n",
              "  </svg>\n",
              "      </button>\n",
              "      \n",
              "  <style>\n",
              "    .colab-df-container {\n",
              "      display:flex;\n",
              "      flex-wrap:wrap;\n",
              "      gap: 12px;\n",
              "    }\n",
              "\n",
              "    .colab-df-convert {\n",
              "      background-color: #E8F0FE;\n",
              "      border: none;\n",
              "      border-radius: 50%;\n",
              "      cursor: pointer;\n",
              "      display: none;\n",
              "      fill: #1967D2;\n",
              "      height: 32px;\n",
              "      padding: 0 0 0 0;\n",
              "      width: 32px;\n",
              "    }\n",
              "\n",
              "    .colab-df-convert:hover {\n",
              "      background-color: #E2EBFA;\n",
              "      box-shadow: 0px 1px 2px rgba(60, 64, 67, 0.3), 0px 1px 3px 1px rgba(60, 64, 67, 0.15);\n",
              "      fill: #174EA6;\n",
              "    }\n",
              "\n",
              "    [theme=dark] .colab-df-convert {\n",
              "      background-color: #3B4455;\n",
              "      fill: #D2E3FC;\n",
              "    }\n",
              "\n",
              "    [theme=dark] .colab-df-convert:hover {\n",
              "      background-color: #434B5C;\n",
              "      box-shadow: 0px 1px 3px 1px rgba(0, 0, 0, 0.15);\n",
              "      filter: drop-shadow(0px 1px 2px rgba(0, 0, 0, 0.3));\n",
              "      fill: #FFFFFF;\n",
              "    }\n",
              "  </style>\n",
              "\n",
              "      <script>\n",
              "        const buttonEl =\n",
              "          document.querySelector('#df-8dbfe9a6-6f29-4df8-b5b1-f33933ff2c9b button.colab-df-convert');\n",
              "        buttonEl.style.display =\n",
              "          google.colab.kernel.accessAllowed ? 'block' : 'none';\n",
              "\n",
              "        async function convertToInteractive(key) {\n",
              "          const element = document.querySelector('#df-8dbfe9a6-6f29-4df8-b5b1-f33933ff2c9b');\n",
              "          const dataTable =\n",
              "            await google.colab.kernel.invokeFunction('convertToInteractive',\n",
              "                                                     [key], {});\n",
              "          if (!dataTable) return;\n",
              "\n",
              "          const docLinkHtml = 'Like what you see? Visit the ' +\n",
              "            '<a target=\"_blank\" href=https://colab.research.google.com/notebooks/data_table.ipynb>data table notebook</a>'\n",
              "            + ' to learn more about interactive tables.';\n",
              "          element.innerHTML = '';\n",
              "          dataTable['output_type'] = 'display_data';\n",
              "          await google.colab.output.renderOutput(dataTable, element);\n",
              "          const docLink = document.createElement('div');\n",
              "          docLink.innerHTML = docLinkHtml;\n",
              "          element.appendChild(docLink);\n",
              "        }\n",
              "      </script>\n",
              "    </div>\n",
              "  </div>\n",
              "  "
            ]
          },
          "metadata": {},
          "execution_count": 24
        }
      ],
      "source": [
        "heros.filter(heros['Eye Color'] == 'blue').collect() >> to_pandas # <-- better but still might be lots, let's check"
      ]
    },
    {
      "cell_type": "code",
      "execution_count": null,
      "metadata": {
        "colab": {
          "base_uri": "https://localhost:8080/"
        },
        "id": "vHIjzhD6Ry3H",
        "outputId": "2eb6c0df-e047-46d2-9c18-755cca0d659e"
      },
      "outputs": [
        {
          "output_type": "execute_result",
          "data": {
            "text/plain": [
              "225"
            ]
          },
          "metadata": {},
          "execution_count": 25
        }
      ],
      "source": [
        "# Iverson's Law -- Count before you collect!\n",
        "heros.filter(heros['Eye Color'] == 'blue').count()"
      ]
    },
    {
      "cell_type": "markdown",
      "metadata": {
        "id": "zndd6lmLRy3H"
      },
      "source": [
        "## Did you notice?\n",
        "\n",
        "<img src=\"https://github.com/wsu-stat489/module5_intro_to_pyspark/blob/main/img/pyspark_missing_values.png?raw=1\" width=400>"
      ]
    },
    {
      "cell_type": "markdown",
      "metadata": {
        "id": "rCqrpp4aRy3I"
      },
      "source": [
        "## Specifying a `nullValue`"
      ]
    },
    {
      "cell_type": "code",
      "execution_count": null,
      "metadata": {
        "colab": {
          "base_uri": "https://localhost:8080/",
          "height": 370
        },
        "id": "043y77KwRy3J",
        "outputId": "838b175e-a123-49c8-8b33-05818a67541b"
      },
      "outputs": [
        {
          "output_type": "execute_result",
          "data": {
            "text/plain": [
              "  _c0         name Gender Eye color               Race Hair color Height  \\\n",
              "0   0       A-Bomb   Male    yellow              Human    No Hair  203.0   \n",
              "1   1   Abe Sapien   Male      blue      Icthyo Sapien    No Hair  191.0   \n",
              "2   2     Abin Sur   Male      blue            Ungaran    No Hair  185.0   \n",
              "3   3  Abomination   Male     green  Human / Radiation    No Hair  203.0   \n",
              "4   4      Abraxas   Male      blue      Cosmic Entity      Black  -99.0   \n",
              "\n",
              "           Publisher Skin color Alignment Weight  \n",
              "0      Marvel Comics       None      good  441.0  \n",
              "1  Dark Horse Comics       blue      good   65.0  \n",
              "2          DC Comics        red      good   90.0  \n",
              "3      Marvel Comics       None       bad  441.0  \n",
              "4      Marvel Comics       None       bad  -99.0  "
            ],
            "text/html": [
              "\n",
              "  <div id=\"df-cbd25bb3-16e8-45a3-ae0e-25de839fabe4\">\n",
              "    <div class=\"colab-df-container\">\n",
              "      <div>\n",
              "<style scoped>\n",
              "    .dataframe tbody tr th:only-of-type {\n",
              "        vertical-align: middle;\n",
              "    }\n",
              "\n",
              "    .dataframe tbody tr th {\n",
              "        vertical-align: top;\n",
              "    }\n",
              "\n",
              "    .dataframe thead th {\n",
              "        text-align: right;\n",
              "    }\n",
              "</style>\n",
              "<table border=\"1\" class=\"dataframe\">\n",
              "  <thead>\n",
              "    <tr style=\"text-align: right;\">\n",
              "      <th></th>\n",
              "      <th>_c0</th>\n",
              "      <th>name</th>\n",
              "      <th>Gender</th>\n",
              "      <th>Eye color</th>\n",
              "      <th>Race</th>\n",
              "      <th>Hair color</th>\n",
              "      <th>Height</th>\n",
              "      <th>Publisher</th>\n",
              "      <th>Skin color</th>\n",
              "      <th>Alignment</th>\n",
              "      <th>Weight</th>\n",
              "    </tr>\n",
              "  </thead>\n",
              "  <tbody>\n",
              "    <tr>\n",
              "      <th>0</th>\n",
              "      <td>0</td>\n",
              "      <td>A-Bomb</td>\n",
              "      <td>Male</td>\n",
              "      <td>yellow</td>\n",
              "      <td>Human</td>\n",
              "      <td>No Hair</td>\n",
              "      <td>203.0</td>\n",
              "      <td>Marvel Comics</td>\n",
              "      <td>None</td>\n",
              "      <td>good</td>\n",
              "      <td>441.0</td>\n",
              "    </tr>\n",
              "    <tr>\n",
              "      <th>1</th>\n",
              "      <td>1</td>\n",
              "      <td>Abe Sapien</td>\n",
              "      <td>Male</td>\n",
              "      <td>blue</td>\n",
              "      <td>Icthyo Sapien</td>\n",
              "      <td>No Hair</td>\n",
              "      <td>191.0</td>\n",
              "      <td>Dark Horse Comics</td>\n",
              "      <td>blue</td>\n",
              "      <td>good</td>\n",
              "      <td>65.0</td>\n",
              "    </tr>\n",
              "    <tr>\n",
              "      <th>2</th>\n",
              "      <td>2</td>\n",
              "      <td>Abin Sur</td>\n",
              "      <td>Male</td>\n",
              "      <td>blue</td>\n",
              "      <td>Ungaran</td>\n",
              "      <td>No Hair</td>\n",
              "      <td>185.0</td>\n",
              "      <td>DC Comics</td>\n",
              "      <td>red</td>\n",
              "      <td>good</td>\n",
              "      <td>90.0</td>\n",
              "    </tr>\n",
              "    <tr>\n",
              "      <th>3</th>\n",
              "      <td>3</td>\n",
              "      <td>Abomination</td>\n",
              "      <td>Male</td>\n",
              "      <td>green</td>\n",
              "      <td>Human / Radiation</td>\n",
              "      <td>No Hair</td>\n",
              "      <td>203.0</td>\n",
              "      <td>Marvel Comics</td>\n",
              "      <td>None</td>\n",
              "      <td>bad</td>\n",
              "      <td>441.0</td>\n",
              "    </tr>\n",
              "    <tr>\n",
              "      <th>4</th>\n",
              "      <td>4</td>\n",
              "      <td>Abraxas</td>\n",
              "      <td>Male</td>\n",
              "      <td>blue</td>\n",
              "      <td>Cosmic Entity</td>\n",
              "      <td>Black</td>\n",
              "      <td>-99.0</td>\n",
              "      <td>Marvel Comics</td>\n",
              "      <td>None</td>\n",
              "      <td>bad</td>\n",
              "      <td>-99.0</td>\n",
              "    </tr>\n",
              "  </tbody>\n",
              "</table>\n",
              "</div>\n",
              "      <button class=\"colab-df-convert\" onclick=\"convertToInteractive('df-cbd25bb3-16e8-45a3-ae0e-25de839fabe4')\"\n",
              "              title=\"Convert this dataframe to an interactive table.\"\n",
              "              style=\"display:none;\">\n",
              "        \n",
              "  <svg xmlns=\"http://www.w3.org/2000/svg\" height=\"24px\"viewBox=\"0 0 24 24\"\n",
              "       width=\"24px\">\n",
              "    <path d=\"M0 0h24v24H0V0z\" fill=\"none\"/>\n",
              "    <path d=\"M18.56 5.44l.94 2.06.94-2.06 2.06-.94-2.06-.94-.94-2.06-.94 2.06-2.06.94zm-11 1L8.5 8.5l.94-2.06 2.06-.94-2.06-.94L8.5 2.5l-.94 2.06-2.06.94zm10 10l.94 2.06.94-2.06 2.06-.94-2.06-.94-.94-2.06-.94 2.06-2.06.94z\"/><path d=\"M17.41 7.96l-1.37-1.37c-.4-.4-.92-.59-1.43-.59-.52 0-1.04.2-1.43.59L10.3 9.45l-7.72 7.72c-.78.78-.78 2.05 0 2.83L4 21.41c.39.39.9.59 1.41.59.51 0 1.02-.2 1.41-.59l7.78-7.78 2.81-2.81c.8-.78.8-2.07 0-2.86zM5.41 20L4 18.59l7.72-7.72 1.47 1.35L5.41 20z\"/>\n",
              "  </svg>\n",
              "      </button>\n",
              "      \n",
              "  <style>\n",
              "    .colab-df-container {\n",
              "      display:flex;\n",
              "      flex-wrap:wrap;\n",
              "      gap: 12px;\n",
              "    }\n",
              "\n",
              "    .colab-df-convert {\n",
              "      background-color: #E8F0FE;\n",
              "      border: none;\n",
              "      border-radius: 50%;\n",
              "      cursor: pointer;\n",
              "      display: none;\n",
              "      fill: #1967D2;\n",
              "      height: 32px;\n",
              "      padding: 0 0 0 0;\n",
              "      width: 32px;\n",
              "    }\n",
              "\n",
              "    .colab-df-convert:hover {\n",
              "      background-color: #E2EBFA;\n",
              "      box-shadow: 0px 1px 2px rgba(60, 64, 67, 0.3), 0px 1px 3px 1px rgba(60, 64, 67, 0.15);\n",
              "      fill: #174EA6;\n",
              "    }\n",
              "\n",
              "    [theme=dark] .colab-df-convert {\n",
              "      background-color: #3B4455;\n",
              "      fill: #D2E3FC;\n",
              "    }\n",
              "\n",
              "    [theme=dark] .colab-df-convert:hover {\n",
              "      background-color: #434B5C;\n",
              "      box-shadow: 0px 1px 3px 1px rgba(0, 0, 0, 0.15);\n",
              "      filter: drop-shadow(0px 1px 2px rgba(0, 0, 0, 0.3));\n",
              "      fill: #FFFFFF;\n",
              "    }\n",
              "  </style>\n",
              "\n",
              "      <script>\n",
              "        const buttonEl =\n",
              "          document.querySelector('#df-cbd25bb3-16e8-45a3-ae0e-25de839fabe4 button.colab-df-convert');\n",
              "        buttonEl.style.display =\n",
              "          google.colab.kernel.accessAllowed ? 'block' : 'none';\n",
              "\n",
              "        async function convertToInteractive(key) {\n",
              "          const element = document.querySelector('#df-cbd25bb3-16e8-45a3-ae0e-25de839fabe4');\n",
              "          const dataTable =\n",
              "            await google.colab.kernel.invokeFunction('convertToInteractive',\n",
              "                                                     [key], {});\n",
              "          if (!dataTable) return;\n",
              "\n",
              "          const docLinkHtml = 'Like what you see? Visit the ' +\n",
              "            '<a target=\"_blank\" href=https://colab.research.google.com/notebooks/data_table.ipynb>data table notebook</a>'\n",
              "            + ' to learn more about interactive tables.';\n",
              "          element.innerHTML = '';\n",
              "          dataTable['output_type'] = 'display_data';\n",
              "          await google.colab.output.renderOutput(dataTable, element);\n",
              "          const docLink = document.createElement('div');\n",
              "          docLink.innerHTML = docLinkHtml;\n",
              "          element.appendChild(docLink);\n",
              "        }\n",
              "      </script>\n",
              "    </div>\n",
              "  </div>\n",
              "  "
            ]
          },
          "metadata": {},
          "execution_count": 26
        }
      ],
      "source": [
        "heros = spark.read.csv('./data/heroes_information.csv', header=True, nullValue='-')\n",
        "heros.take(5) >> to_pandas"
      ]
    },
    {
      "cell_type": "markdown",
      "metadata": {
        "id": "bt-HmftzRy3K"
      },
      "source": [
        "## Did you notice?\n",
        "\n",
        "<img src=\"https://github.com/wsu-stat489/module5_intro_to_pyspark/blob/main/img/pyspark_default_types.png?raw=1\" width=400>\n",
        "\n",
        "Default type is a string"
      ]
    },
    {
      "cell_type": "markdown",
      "metadata": {
        "id": "wqF2ZmQTRy3L"
      },
      "source": [
        "## Letting `spark` guess the types\n",
        "\n",
        "Set `inferScheme=True` "
      ]
    },
    {
      "cell_type": "code",
      "execution_count": null,
      "metadata": {
        "colab": {
          "base_uri": "https://localhost:8080/"
        },
        "id": "L0n7j00LRy3L",
        "outputId": "7e6e25fd-02b9-441d-dcaf-65cb63c58af9"
      },
      "outputs": [
        {
          "output_type": "execute_result",
          "data": {
            "text/plain": [
              "DataFrame[_c0: int, name: string, Gender: string, Eye color: string, Race: string, Hair color: string, Height: double, Publisher: string, Skin color: string, Alignment: string, Weight: double]"
            ]
          },
          "metadata": {},
          "execution_count": 27
        }
      ],
      "source": [
        "heros = spark.read.csv('./data/heroes_information.csv', header=True, inferSchema=True, nullValue='-')\n",
        "heros"
      ]
    },
    {
      "cell_type": "markdown",
      "metadata": {
        "id": "77ULZOaHRy3L"
      },
      "source": [
        "## Checking the column types after `inferScheme`\n",
        "\n",
        "In this case, `spark` guessed correctly"
      ]
    },
    {
      "cell_type": "code",
      "execution_count": null,
      "metadata": {
        "colab": {
          "base_uri": "https://localhost:8080/"
        },
        "id": "W_U8DQmzRy3M",
        "outputId": "adecd0d9-87e9-4801-aeaf-c83e8453d2d3"
      },
      "outputs": [
        {
          "output_type": "stream",
          "name": "stdout",
          "text": [
            "root\n",
            " |-- _c0: integer (nullable = true)\n",
            " |-- name: string (nullable = true)\n",
            " |-- Gender: string (nullable = true)\n",
            " |-- Eye color: string (nullable = true)\n",
            " |-- Race: string (nullable = true)\n",
            " |-- Hair color: string (nullable = true)\n",
            " |-- Height: double (nullable = true)\n",
            " |-- Publisher: string (nullable = true)\n",
            " |-- Skin color: string (nullable = true)\n",
            " |-- Alignment: string (nullable = true)\n",
            " |-- Weight: double (nullable = true)\n",
            "\n"
          ]
        }
      ],
      "source": [
        "heros.printSchema()"
      ]
    },
    {
      "cell_type": "markdown",
      "metadata": {
        "id": "Fkheoz2-Ry3M"
      },
      "source": [
        "## Inspecting the content - `take`"
      ]
    },
    {
      "cell_type": "code",
      "execution_count": null,
      "metadata": {
        "colab": {
          "base_uri": "https://localhost:8080/"
        },
        "id": "RpX44QYnRy3M",
        "outputId": "b5769421-fea1-45bb-870d-ab8341e9793b"
      },
      "outputs": [
        {
          "output_type": "execute_result",
          "data": {
            "text/plain": [
              "[Row(_c0=0, name='A-Bomb', Gender='Male', Eye color='yellow', Race='Human', Hair color='No Hair', Height=203.0, Publisher='Marvel Comics', Skin color=None, Alignment='good', Weight=441.0),\n",
              " Row(_c0=1, name='Abe Sapien', Gender='Male', Eye color='blue', Race='Icthyo Sapien', Hair color='No Hair', Height=191.0, Publisher='Dark Horse Comics', Skin color='blue', Alignment='good', Weight=65.0),\n",
              " Row(_c0=2, name='Abin Sur', Gender='Male', Eye color='blue', Race='Ungaran', Hair color='No Hair', Height=185.0, Publisher='DC Comics', Skin color='red', Alignment='good', Weight=90.0),\n",
              " Row(_c0=3, name='Abomination', Gender='Male', Eye color='green', Race='Human / Radiation', Hair color='No Hair', Height=203.0, Publisher='Marvel Comics', Skin color=None, Alignment='bad', Weight=441.0),\n",
              " Row(_c0=4, name='Abraxas', Gender='Male', Eye color='blue', Race='Cosmic Entity', Hair color='Black', Height=-99.0, Publisher='Marvel Comics', Skin color=None, Alignment='bad', Weight=-99.0)]"
            ]
          },
          "metadata": {},
          "execution_count": 29
        }
      ],
      "source": [
        "heros.take(5)"
      ]
    },
    {
      "cell_type": "markdown",
      "metadata": {
        "id": "AN6uO88SRy3N"
      },
      "source": [
        "## Explicit `schema` specification\n",
        "\n",
        "Format is `add(name, type, nullable?)`"
      ]
    },
    {
      "cell_type": "code",
      "execution_count": null,
      "metadata": {
        "colab": {
          "base_uri": "https://localhost:8080/"
        },
        "id": "iKU5rzjfRy3N",
        "outputId": "1fa66f0d-b332-4f08-9d40-733803ff6ec6"
      },
      "outputs": [
        {
          "output_type": "execute_result",
          "data": {
            "text/plain": [
              "DataFrame[Id: int, name: string, Gender: string, Eye color: string, Race: string, Hair color: string, Height: double, Publisher: string, Skin color: string, Alignment: string, Weight: double]"
            ]
          },
          "metadata": {},
          "execution_count": 30
        }
      ],
      "source": [
        "from pyspark.sql.types import StructType\n",
        "from pyspark.sql.types import DoubleType, StringType, IntegerType\n",
        "\n",
        "hero_schema = (StructType()\n",
        "  .add('Id', IntegerType(), False)\n",
        "  .add('name', StringType(), True)\n",
        "  .add('Gender', StringType(), True)\n",
        "  .add('Eye color', StringType(), True)\n",
        "  .add('Race', StringType(), True)\n",
        "  .add('Hair color', StringType(), True)\n",
        "  .add('Height', DoubleType(), True)\n",
        "  .add('Publisher', StringType(), True)\n",
        "  .add('Skin color', StringType(), True)\n",
        "  .add('Alignment', StringType(), True)\n",
        "  .add('Weight', DoubleType(), True))\n",
        "\n",
        "heros = spark.read.csv('./data/heroes_information.csv', header=True, schema=hero_schema, nullValue='-')\n",
        "heros"
      ]
    },
    {
      "cell_type": "code",
      "execution_count": null,
      "metadata": {
        "colab": {
          "base_uri": "https://localhost:8080/"
        },
        "id": "fks5g_bcRy3N",
        "outputId": "abab1f80-2054-48b9-b2ef-2c5a219156da"
      },
      "outputs": [
        {
          "output_type": "execute_result",
          "data": {
            "text/plain": [
              "[Row(Id=0, name='A-Bomb', Gender='Male', Eye color='yellow', Race='Human', Hair color='No Hair', Height=203.0, Publisher='Marvel Comics', Skin color=None, Alignment='good', Weight=441.0),\n",
              " Row(Id=1, name='Abe Sapien', Gender='Male', Eye color='blue', Race='Icthyo Sapien', Hair color='No Hair', Height=191.0, Publisher='Dark Horse Comics', Skin color='blue', Alignment='good', Weight=65.0),\n",
              " Row(Id=2, name='Abin Sur', Gender='Male', Eye color='blue', Race='Ungaran', Hair color='No Hair', Height=185.0, Publisher='DC Comics', Skin color='red', Alignment='good', Weight=90.0),\n",
              " Row(Id=3, name='Abomination', Gender='Male', Eye color='green', Race='Human / Radiation', Hair color='No Hair', Height=203.0, Publisher='Marvel Comics', Skin color=None, Alignment='bad', Weight=441.0),\n",
              " Row(Id=4, name='Abraxas', Gender='Male', Eye color='blue', Race='Cosmic Entity', Hair color='Black', Height=-99.0, Publisher='Marvel Comics', Skin color=None, Alignment='bad', Weight=-99.0)]"
            ]
          },
          "metadata": {},
          "execution_count": 31
        }
      ],
      "source": [
        "heros.take(5)"
      ]
    },
    {
      "cell_type": "markdown",
      "metadata": {
        "id": "stBifUtyRy3O"
      },
      "source": [
        "## <font color=\"red\"> Exercise 1 </font>\n",
        "\n",
        "Define a `schema` and read in `./data/super_hero_powers.csv`"
      ]
    },
    {
      "cell_type": "code",
      "source": [
        "!wget https://github.com/wsu-stat489/module4_common_filter_operations/raw/main/data/super_hero_powers.csv"
      ],
      "metadata": {
        "id": "c8qjtdV38mL2",
        "colab": {
          "base_uri": "https://localhost:8080/"
        },
        "outputId": "b82ae0b7-6913-4b49-8f17-bdb1e0f0c336"
      },
      "execution_count": null,
      "outputs": [
        {
          "output_type": "stream",
          "name": "stdout",
          "text": [
            "--2022-10-25 00:37:41--  https://github.com/wsu-stat489/module4_common_filter_operations/raw/main/data/super_hero_powers.csv\n",
            "Resolving github.com (github.com)... 192.30.255.112\n",
            "Connecting to github.com (github.com)|192.30.255.112|:443... connected.\n",
            "HTTP request sent, awaiting response... 302 Found\n",
            "Location: https://raw.githubusercontent.com/wsu-stat489/module4_common_filter_operations/main/data/super_hero_powers.csv [following]\n",
            "--2022-10-25 00:37:41--  https://raw.githubusercontent.com/wsu-stat489/module4_common_filter_operations/main/data/super_hero_powers.csv\n",
            "Resolving raw.githubusercontent.com (raw.githubusercontent.com)... 185.199.108.133, 185.199.109.133, 185.199.110.133, ...\n",
            "Connecting to raw.githubusercontent.com (raw.githubusercontent.com)|185.199.108.133|:443... connected.\n",
            "HTTP request sent, awaiting response... 200 OK\n",
            "Length: 672305 (657K) [text/plain]\n",
            "Saving to: ‘super_hero_powers.csv’\n",
            "\n",
            "super_hero_powers.c 100%[===================>] 656.55K  --.-KB/s    in 0.03s   \n",
            "\n",
            "2022-10-25 00:37:41 (24.1 MB/s) - ‘super_hero_powers.csv’ saved [672305/672305]\n",
            "\n"
          ]
        }
      ]
    },
    {
      "cell_type": "code",
      "source": [
        "!mv super_hero_powers.csv ./data"
      ],
      "metadata": {
        "id": "Nf6mu3M79FR5"
      },
      "execution_count": null,
      "outputs": []
    },
    {
      "cell_type": "code",
      "source": [
        "!ls data"
      ],
      "metadata": {
        "id": "t2tRb5Iq9QBb",
        "colab": {
          "base_uri": "https://localhost:8080/"
        },
        "outputId": "96d27395-eac0-45e1-f58d-ead1a16b3899"
      },
      "execution_count": null,
      "outputs": [
        {
          "output_type": "stream",
          "name": "stdout",
          "text": [
            "auto_sales_apr.csv\t  Rochester_temps_2019.xlsx\n",
            "auto_sales.csv\t\t  super_hero_powers.csv\n",
            "auto_sales_may.csv\t  TB_bad.csv\n",
            "baseball\t\t  uber-raw-data-apr14-sample.csv\n",
            "department.csv\t\t  uber-raw-data-aug14-sample.csv\n",
            "employee.csv\t\t  uber-raw-data-jul14-sample.csv\n",
            "health_survey.csv\t  uber-raw-data-jun14-sample.csv\n",
            "heroes_information.csv\t  uber-raw-data-may14-sample.csv\n",
            "PEW_income_religion.csv   uber-raw-data-sep14-sample.csv\n",
            "Rochester_temps_2019.csv\n"
          ]
        }
      ]
    },
    {
      "cell_type": "code",
      "execution_count": null,
      "metadata": {
        "id": "LnmzuneIRy3O",
        "outputId": "a00cbd93-b05c-479d-ae57-b342acf1dc64",
        "colab": {
          "base_uri": "https://localhost:8080/"
        }
      },
      "outputs": [
        {
          "output_type": "execute_result",
          "data": {
            "text/plain": [
              "DataFrame[hero_names: string, Agility: boolean, Accelerated Healing: boolean, Lantern Power Ring: boolean, Dimensional Awareness: boolean, Cold Resistance: boolean, Durability: boolean, Stealth: boolean, Energy Absorption: boolean, Flight: boolean, Danger Sense: boolean, Underwater breathing: boolean, Marksmanship: boolean, Weapons Master: boolean, Power Augmentation: boolean, Animal Attributes: boolean, Longevity: boolean, Intelligence: boolean, Super Strength: boolean, Cryokinesis: boolean, Telepathy: boolean, Energy Armor: boolean, Energy Blasts: boolean, Duplication: boolean, Size Changing: boolean, Density Control: boolean, Stamina: boolean, Astral Travel: boolean, Audio Control: boolean, Dexterity: boolean, Omnitrix: boolean, Super Speed: boolean, Possession: boolean, Animal Oriented Powers: boolean, Weapon-based Powers: boolean, Electrokinesis: boolean, Darkforce Manipulation: boolean, Death Touch: boolean, Teleportation: boolean, Enhanced Senses: boolean, Telekinesis: boolean, Energy Beams: boolean, Magic: boolean, Hyperkinesis: boolean, Jump: boolean, Clairvoyance: boolean, Dimensional Travel: boolean, Power Sense: boolean, Shapeshifting: boolean, Peak Human Condition: boolean, Immortality: boolean, Camouflage: boolean, Element Control: boolean, Phasing: boolean, Astral Projection: boolean, Electrical Transport: boolean, Fire Control: boolean, Projection: boolean, Summoning: boolean, Enhanced Memory: boolean, Reflexes: boolean, Invulnerability: boolean, Energy Constructs: boolean, Force Fields: boolean, Self-Sustenance: boolean, Anti-Gravity: boolean, Empathy: boolean, Power Nullifier: boolean, Radiation Control: boolean, Psionic Powers: boolean, Elasticity: boolean, Substance Secretion: boolean, Elemental Transmogrification: boolean, Technopath/Cyberpath: boolean, Photographic Reflexes: boolean, Seismic Power: boolean, Animation: boolean, Precognition: boolean, Mind Control: boolean, Fire Resistance: boolean, Power Absorption: boolean, Enhanced Hearing: boolean, Nova Force: boolean, Insanity: boolean, Hypnokinesis: boolean, Animal Control: boolean, Natural Armor: boolean, Intangibility: boolean, Enhanced Sight: boolean, Molecular Manipulation: boolean, Heat Generation: boolean, Adaptation: boolean, Gliding: boolean, Power Suit: boolean, Mind Blast: boolean, Probability Manipulation: boolean, Gravity Control: boolean, Regeneration: boolean, Light Control: boolean, Echolocation: boolean, Levitation: boolean, Toxin and Disease Control: boolean, Banish: boolean, Energy Manipulation: boolean, Heat Resistance: boolean, Natural Weapons: boolean, Time Travel: boolean, Enhanced Smell: boolean, Illusions: boolean, Thirstokinesis: boolean, Hair Manipulation: boolean, Illumination: boolean, Omnipotent: boolean, Cloaking: boolean, Changing Armor: boolean, Power Cosmic: boolean, Biokinesis: boolean, Water Control: boolean, Radiation Immunity: boolean, Vision - Telescopic: boolean, Toxin and Disease Resistance: boolean, Spatial Awareness: boolean, Energy Resistance: boolean, Telepathy Resistance: boolean, Molecular Combustion: boolean, Omnilingualism: boolean, Portal Creation: boolean, Magnetism: boolean, Mind Control Resistance: boolean, Plant Control: boolean, Sonar: boolean, Sonic Scream: boolean, Time Manipulation: boolean, Enhanced Touch: boolean, Magic Resistance: boolean, Invisibility: boolean, Sub-Mariner: boolean, Radiation Absorption: boolean, Intuitive aptitude: boolean, Vision - Microscopic: boolean, Melting: boolean, Wind Control: boolean, Super Breath: boolean, Wallcrawling: boolean, Vision - Night: boolean, Vision - Infrared: boolean, Grim Reaping: boolean, Matter Absorption: boolean, The Force: boolean, Resurrection: boolean, Terrakinesis: boolean, Vision - Heat: boolean, Vitakinesis: boolean, Radar Sense: boolean, Qwardian Power Ring: boolean, Weather Control: boolean, Vision - X-Ray: boolean, Vision - Thermal: boolean, Web Creation: boolean, Reality Warping: boolean, Odin Force: boolean, Symbiote Costume: boolean, Speed Force: boolean, Phoenix Force: boolean, Molecular Dissipation: boolean, Vision - Cryo: boolean, Omnipresent: boolean, Omniscient: boolean]"
            ]
          },
          "metadata": {},
          "execution_count": 35
        }
      ],
      "source": [
        "from pyspark.sql.types import StructType\n",
        "from pyspark.sql.types import BooleanType, StringType \n",
        "\n",
        "powers = spark.read.csv('./data/super_hero_powers.csv', header=True, inferSchema=True, nullValue='-')\n",
        "powers\n",
        "# Your code here"
      ]
    },
    {
      "cell_type": "markdown",
      "metadata": {
        "id": "8tYN8gakRy3O"
      },
      "source": [
        "## `pyspark.sql` queries are like `SQL` queries"
      ]
    },
    {
      "cell_type": "markdown",
      "metadata": {
        "id": "zOIpIXD3Ry3P"
      },
      "source": [
        "#### Filter, group, and aggregate (categorical)"
      ]
    },
    {
      "cell_type": "code",
      "execution_count": null,
      "metadata": {
        "colab": {
          "base_uri": "https://localhost:8080/",
          "height": 204
        },
        "id": "E9_8IAAVRy3P",
        "outputId": "8f297644-8b13-4a9b-e65d-7b607939bb59"
      },
      "outputs": [
        {
          "output_type": "execute_result",
          "data": {
            "text/plain": [
              "  Eye color  count\n",
              "0      grey      6\n",
              "1     green     30\n",
              "2    yellow     16\n",
              "3      bown      1\n",
              "4      None    121"
            ],
            "text/html": [
              "\n",
              "  <div id=\"df-7feeedc4-b86f-435a-8f85-94eb91c8ca9d\">\n",
              "    <div class=\"colab-df-container\">\n",
              "      <div>\n",
              "<style scoped>\n",
              "    .dataframe tbody tr th:only-of-type {\n",
              "        vertical-align: middle;\n",
              "    }\n",
              "\n",
              "    .dataframe tbody tr th {\n",
              "        vertical-align: top;\n",
              "    }\n",
              "\n",
              "    .dataframe thead th {\n",
              "        text-align: right;\n",
              "    }\n",
              "</style>\n",
              "<table border=\"1\" class=\"dataframe\">\n",
              "  <thead>\n",
              "    <tr style=\"text-align: right;\">\n",
              "      <th></th>\n",
              "      <th>Eye color</th>\n",
              "      <th>count</th>\n",
              "    </tr>\n",
              "  </thead>\n",
              "  <tbody>\n",
              "    <tr>\n",
              "      <th>0</th>\n",
              "      <td>grey</td>\n",
              "      <td>6</td>\n",
              "    </tr>\n",
              "    <tr>\n",
              "      <th>1</th>\n",
              "      <td>green</td>\n",
              "      <td>30</td>\n",
              "    </tr>\n",
              "    <tr>\n",
              "      <th>2</th>\n",
              "      <td>yellow</td>\n",
              "      <td>16</td>\n",
              "    </tr>\n",
              "    <tr>\n",
              "      <th>3</th>\n",
              "      <td>bown</td>\n",
              "      <td>1</td>\n",
              "    </tr>\n",
              "    <tr>\n",
              "      <th>4</th>\n",
              "      <td>None</td>\n",
              "      <td>121</td>\n",
              "    </tr>\n",
              "  </tbody>\n",
              "</table>\n",
              "</div>\n",
              "      <button class=\"colab-df-convert\" onclick=\"convertToInteractive('df-7feeedc4-b86f-435a-8f85-94eb91c8ca9d')\"\n",
              "              title=\"Convert this dataframe to an interactive table.\"\n",
              "              style=\"display:none;\">\n",
              "        \n",
              "  <svg xmlns=\"http://www.w3.org/2000/svg\" height=\"24px\"viewBox=\"0 0 24 24\"\n",
              "       width=\"24px\">\n",
              "    <path d=\"M0 0h24v24H0V0z\" fill=\"none\"/>\n",
              "    <path d=\"M18.56 5.44l.94 2.06.94-2.06 2.06-.94-2.06-.94-.94-2.06-.94 2.06-2.06.94zm-11 1L8.5 8.5l.94-2.06 2.06-.94-2.06-.94L8.5 2.5l-.94 2.06-2.06.94zm10 10l.94 2.06.94-2.06 2.06-.94-2.06-.94-.94-2.06-.94 2.06-2.06.94z\"/><path d=\"M17.41 7.96l-1.37-1.37c-.4-.4-.92-.59-1.43-.59-.52 0-1.04.2-1.43.59L10.3 9.45l-7.72 7.72c-.78.78-.78 2.05 0 2.83L4 21.41c.39.39.9.59 1.41.59.51 0 1.02-.2 1.41-.59l7.78-7.78 2.81-2.81c.8-.78.8-2.07 0-2.86zM5.41 20L4 18.59l7.72-7.72 1.47 1.35L5.41 20z\"/>\n",
              "  </svg>\n",
              "      </button>\n",
              "      \n",
              "  <style>\n",
              "    .colab-df-container {\n",
              "      display:flex;\n",
              "      flex-wrap:wrap;\n",
              "      gap: 12px;\n",
              "    }\n",
              "\n",
              "    .colab-df-convert {\n",
              "      background-color: #E8F0FE;\n",
              "      border: none;\n",
              "      border-radius: 50%;\n",
              "      cursor: pointer;\n",
              "      display: none;\n",
              "      fill: #1967D2;\n",
              "      height: 32px;\n",
              "      padding: 0 0 0 0;\n",
              "      width: 32px;\n",
              "    }\n",
              "\n",
              "    .colab-df-convert:hover {\n",
              "      background-color: #E2EBFA;\n",
              "      box-shadow: 0px 1px 2px rgba(60, 64, 67, 0.3), 0px 1px 3px 1px rgba(60, 64, 67, 0.15);\n",
              "      fill: #174EA6;\n",
              "    }\n",
              "\n",
              "    [theme=dark] .colab-df-convert {\n",
              "      background-color: #3B4455;\n",
              "      fill: #D2E3FC;\n",
              "    }\n",
              "\n",
              "    [theme=dark] .colab-df-convert:hover {\n",
              "      background-color: #434B5C;\n",
              "      box-shadow: 0px 1px 3px 1px rgba(0, 0, 0, 0.15);\n",
              "      filter: drop-shadow(0px 1px 2px rgba(0, 0, 0, 0.3));\n",
              "      fill: #FFFFFF;\n",
              "    }\n",
              "  </style>\n",
              "\n",
              "      <script>\n",
              "        const buttonEl =\n",
              "          document.querySelector('#df-7feeedc4-b86f-435a-8f85-94eb91c8ca9d button.colab-df-convert');\n",
              "        buttonEl.style.display =\n",
              "          google.colab.kernel.accessAllowed ? 'block' : 'none';\n",
              "\n",
              "        async function convertToInteractive(key) {\n",
              "          const element = document.querySelector('#df-7feeedc4-b86f-435a-8f85-94eb91c8ca9d');\n",
              "          const dataTable =\n",
              "            await google.colab.kernel.invokeFunction('convertToInteractive',\n",
              "                                                     [key], {});\n",
              "          if (!dataTable) return;\n",
              "\n",
              "          const docLinkHtml = 'Like what you see? Visit the ' +\n",
              "            '<a target=\"_blank\" href=https://colab.research.google.com/notebooks/data_table.ipynb>data table notebook</a>'\n",
              "            + ' to learn more about interactive tables.';\n",
              "          element.innerHTML = '';\n",
              "          dataTable['output_type'] = 'display_data';\n",
              "          await google.colab.output.renderOutput(dataTable, element);\n",
              "          const docLink = document.createElement('div');\n",
              "          docLink.innerHTML = docLinkHtml;\n",
              "          element.appendChild(docLink);\n",
              "        }\n",
              "      </script>\n",
              "    </div>\n",
              "  </div>\n",
              "  "
            ]
          },
          "metadata": {},
          "execution_count": 36
        }
      ],
      "source": [
        "(heros\n",
        "     .where(heros.Gender == 'Male')\n",
        "     .groupby(heros['Eye color'])\n",
        "     .count()\n",
        "     .take(5)\n",
        ") >> to_pandas"
      ]
    },
    {
      "cell_type": "markdown",
      "metadata": {
        "id": "_A-XJLCaRy3P"
      },
      "source": [
        "#### Group by multiple and aggregate (categorical)"
      ]
    },
    {
      "cell_type": "code",
      "execution_count": null,
      "metadata": {
        "colab": {
          "base_uri": "https://localhost:8080/",
          "height": 319
        },
        "id": "B5dsgMMjRy3Q",
        "outputId": "fd2eb54d-4e2b-46ed-e2b1-cda38b2cc112"
      },
      "outputs": [
        {
          "output_type": "execute_result",
          "data": {
            "text/plain": [
              "                 Eye color  Gender  count\n",
              "0  yellow (without irises)    None      1\n",
              "1                    green    Male     30\n",
              "2                   violet  Female      2\n",
              "3                    hazel  Female      3\n",
              "4                     blue    Male    143"
            ],
            "text/html": [
              "\n",
              "  <div id=\"df-327149eb-1a27-44a4-b0ff-0dab06de60a1\">\n",
              "    <div class=\"colab-df-container\">\n",
              "      <div>\n",
              "<style scoped>\n",
              "    .dataframe tbody tr th:only-of-type {\n",
              "        vertical-align: middle;\n",
              "    }\n",
              "\n",
              "    .dataframe tbody tr th {\n",
              "        vertical-align: top;\n",
              "    }\n",
              "\n",
              "    .dataframe thead th {\n",
              "        text-align: right;\n",
              "    }\n",
              "</style>\n",
              "<table border=\"1\" class=\"dataframe\">\n",
              "  <thead>\n",
              "    <tr style=\"text-align: right;\">\n",
              "      <th></th>\n",
              "      <th>Eye color</th>\n",
              "      <th>Gender</th>\n",
              "      <th>count</th>\n",
              "    </tr>\n",
              "  </thead>\n",
              "  <tbody>\n",
              "    <tr>\n",
              "      <th>0</th>\n",
              "      <td>yellow (without irises)</td>\n",
              "      <td>None</td>\n",
              "      <td>1</td>\n",
              "    </tr>\n",
              "    <tr>\n",
              "      <th>1</th>\n",
              "      <td>green</td>\n",
              "      <td>Male</td>\n",
              "      <td>30</td>\n",
              "    </tr>\n",
              "    <tr>\n",
              "      <th>2</th>\n",
              "      <td>violet</td>\n",
              "      <td>Female</td>\n",
              "      <td>2</td>\n",
              "    </tr>\n",
              "    <tr>\n",
              "      <th>3</th>\n",
              "      <td>hazel</td>\n",
              "      <td>Female</td>\n",
              "      <td>3</td>\n",
              "    </tr>\n",
              "    <tr>\n",
              "      <th>4</th>\n",
              "      <td>blue</td>\n",
              "      <td>Male</td>\n",
              "      <td>143</td>\n",
              "    </tr>\n",
              "  </tbody>\n",
              "</table>\n",
              "</div>\n",
              "      <button class=\"colab-df-convert\" onclick=\"convertToInteractive('df-327149eb-1a27-44a4-b0ff-0dab06de60a1')\"\n",
              "              title=\"Convert this dataframe to an interactive table.\"\n",
              "              style=\"display:none;\">\n",
              "        \n",
              "  <svg xmlns=\"http://www.w3.org/2000/svg\" height=\"24px\"viewBox=\"0 0 24 24\"\n",
              "       width=\"24px\">\n",
              "    <path d=\"M0 0h24v24H0V0z\" fill=\"none\"/>\n",
              "    <path d=\"M18.56 5.44l.94 2.06.94-2.06 2.06-.94-2.06-.94-.94-2.06-.94 2.06-2.06.94zm-11 1L8.5 8.5l.94-2.06 2.06-.94-2.06-.94L8.5 2.5l-.94 2.06-2.06.94zm10 10l.94 2.06.94-2.06 2.06-.94-2.06-.94-.94-2.06-.94 2.06-2.06.94z\"/><path d=\"M17.41 7.96l-1.37-1.37c-.4-.4-.92-.59-1.43-.59-.52 0-1.04.2-1.43.59L10.3 9.45l-7.72 7.72c-.78.78-.78 2.05 0 2.83L4 21.41c.39.39.9.59 1.41.59.51 0 1.02-.2 1.41-.59l7.78-7.78 2.81-2.81c.8-.78.8-2.07 0-2.86zM5.41 20L4 18.59l7.72-7.72 1.47 1.35L5.41 20z\"/>\n",
              "  </svg>\n",
              "      </button>\n",
              "      \n",
              "  <style>\n",
              "    .colab-df-container {\n",
              "      display:flex;\n",
              "      flex-wrap:wrap;\n",
              "      gap: 12px;\n",
              "    }\n",
              "\n",
              "    .colab-df-convert {\n",
              "      background-color: #E8F0FE;\n",
              "      border: none;\n",
              "      border-radius: 50%;\n",
              "      cursor: pointer;\n",
              "      display: none;\n",
              "      fill: #1967D2;\n",
              "      height: 32px;\n",
              "      padding: 0 0 0 0;\n",
              "      width: 32px;\n",
              "    }\n",
              "\n",
              "    .colab-df-convert:hover {\n",
              "      background-color: #E2EBFA;\n",
              "      box-shadow: 0px 1px 2px rgba(60, 64, 67, 0.3), 0px 1px 3px 1px rgba(60, 64, 67, 0.15);\n",
              "      fill: #174EA6;\n",
              "    }\n",
              "\n",
              "    [theme=dark] .colab-df-convert {\n",
              "      background-color: #3B4455;\n",
              "      fill: #D2E3FC;\n",
              "    }\n",
              "\n",
              "    [theme=dark] .colab-df-convert:hover {\n",
              "      background-color: #434B5C;\n",
              "      box-shadow: 0px 1px 3px 1px rgba(0, 0, 0, 0.15);\n",
              "      filter: drop-shadow(0px 1px 2px rgba(0, 0, 0, 0.3));\n",
              "      fill: #FFFFFF;\n",
              "    }\n",
              "  </style>\n",
              "\n",
              "      <script>\n",
              "        const buttonEl =\n",
              "          document.querySelector('#df-327149eb-1a27-44a4-b0ff-0dab06de60a1 button.colab-df-convert');\n",
              "        buttonEl.style.display =\n",
              "          google.colab.kernel.accessAllowed ? 'block' : 'none';\n",
              "\n",
              "        async function convertToInteractive(key) {\n",
              "          const element = document.querySelector('#df-327149eb-1a27-44a4-b0ff-0dab06de60a1');\n",
              "          const dataTable =\n",
              "            await google.colab.kernel.invokeFunction('convertToInteractive',\n",
              "                                                     [key], {});\n",
              "          if (!dataTable) return;\n",
              "\n",
              "          const docLinkHtml = 'Like what you see? Visit the ' +\n",
              "            '<a target=\"_blank\" href=https://colab.research.google.com/notebooks/data_table.ipynb>data table notebook</a>'\n",
              "            + ' to learn more about interactive tables.';\n",
              "          element.innerHTML = '';\n",
              "          dataTable['output_type'] = 'display_data';\n",
              "          await google.colab.output.renderOutput(dataTable, element);\n",
              "          const docLink = document.createElement('div');\n",
              "          docLink.innerHTML = docLinkHtml;\n",
              "          element.appendChild(docLink);\n",
              "        }\n",
              "      </script>\n",
              "    </div>\n",
              "  </div>\n",
              "  "
            ]
          },
          "metadata": {},
          "execution_count": 37
        }
      ],
      "source": [
        "(heros\n",
        "     .groupby(heros['Eye color'], heros.Gender)\n",
        "     .count()\n",
        "     .take(5)\n",
        ") >> to_pandas"
      ]
    },
    {
      "cell_type": "markdown",
      "metadata": {
        "id": "ajOYRVqQRy3Q"
      },
      "source": [
        "## <font color=\"red\"> Exercise 2 </font>\n",
        "    \n",
        "Perform `pyspark.sql` queries to answer each of the following questions.\n",
        "\n",
        "1. How many heroes have both Super Strength and Super Speed?\n",
        "2. How many heroes have names that start with the word *Black*\n",
        "3. Are heroes with Agility more likely to have Stealth?\n",
        "4. What fraction of all heroes that can fly also have Super Strength?\n",
        "5. Consider heroes that have names that contain `\"girl\"`, `\"boy\"`, `\"woman\"`, or `\"man\"`.  Compute the following ratio\n",
        "\n",
        "$$\\frac{N(\\text{boy or man})}{N(\\text{girl or woman}}$$\n",
        "\n",
        "**Hint:** You will need to use some combination of `where`, `group_by`, and `count` for each part."
      ]
    },
    {
      "cell_type": "code",
      "execution_count": null,
      "metadata": {
        "id": "2ugIMUfSRy3Q",
        "outputId": "3880b4a2-b950-467c-9204-6a4289d33a06",
        "colab": {
          "base_uri": "https://localhost:8080/"
        }
      },
      "outputs": [
        {
          "output_type": "execute_result",
          "data": {
            "text/plain": [
              "219"
            ]
          },
          "metadata": {},
          "execution_count": 38
        }
      ],
      "source": [
        "#1\n",
        "(powers\n",
        "     .where((powers['Super Speed'] == True) & (powers['Super Strength'] == True)) \n",
        "     .count()\n",
        ") \n"
      ]
    },
    {
      "cell_type": "code",
      "source": [
        "\n",
        "(powers\n",
        "  .where(powers.hero_names.startswith(\"Black\"))\n",
        "  .count())"
      ],
      "metadata": {
        "id": "XmSHKxaQcMdn",
        "outputId": "c4dd6151-4c24-43d2-acfe-b3e0c3364aad",
        "colab": {
          "base_uri": "https://localhost:8080/"
        }
      },
      "execution_count": null,
      "outputs": [
        {
          "output_type": "execute_result",
          "data": {
            "text/plain": [
              "16"
            ]
          },
          "metadata": {},
          "execution_count": 39
        }
      ]
    },
    {
      "cell_type": "code",
      "source": [
        "(powers\n",
        " .where((powers.Agility) & (powers.Stealth))\n",
        " .count())/(powers \n",
        "            .where((powers.Agility))\n",
        "            .count())"
      ],
      "metadata": {
        "id": "D81iJQDEdDHx",
        "colab": {
          "base_uri": "https://localhost:8080/"
        },
        "outputId": "5df1d6d0-bd2d-4471-8335-d8bbba5d76a5"
      },
      "execution_count": null,
      "outputs": [
        {
          "output_type": "execute_result",
          "data": {
            "text/plain": [
              "0.3925619834710744"
            ]
          },
          "metadata": {},
          "execution_count": 71
        }
      ]
    },
    {
      "cell_type": "code",
      "source": [
        "(powers\n",
        " .where((powers.Flight) & (powers['Super Strength']))\n",
        " .count())/(powers \n",
        "            .where((powers.Flight))\n",
        "            .count())"
      ],
      "metadata": {
        "colab": {
          "base_uri": "https://localhost:8080/"
        },
        "id": "RSCyCyiioJjn",
        "outputId": "cc08ad26-5550-424c-b1f6-beb332df3d32"
      },
      "execution_count": null,
      "outputs": [
        {
          "output_type": "execute_result",
          "data": {
            "text/plain": [
              "0.6933962264150944"
            ]
          },
          "metadata": {},
          "execution_count": 70
        }
      ]
    },
    {
      "cell_type": "code",
      "source": [
        "(powers\n",
        " .where((powers.hero_names.contains(\"man\")) | (powers.hero_names.contains(\"boy\")))\n",
        " .count())/(powers \n",
        "            .where((powers.hero_names.contains(\"woman\")) | (powers.hero_names.contains(\"girl\")))\n",
        "            .count())\n"
      ],
      "metadata": {
        "colab": {
          "base_uri": "https://localhost:8080/"
        },
        "id": "S2rxGRFOow1u",
        "outputId": "5da15e53-5d06-44ba-9cba-953e8e778182"
      },
      "execution_count": null,
      "outputs": [
        {
          "output_type": "execute_result",
          "data": {
            "text/plain": [
              "2.9"
            ]
          },
          "metadata": {},
          "execution_count": 69
        }
      ]
    },
    {
      "cell_type": "markdown",
      "metadata": {
        "id": "GdXTzICWRy3Q"
      },
      "source": [
        "# Appendix\n",
        "\n",
        "## Creating rows from list of data"
      ]
    },
    {
      "cell_type": "markdown",
      "metadata": {
        "id": "Hu-N03ygRy3R"
      },
      "source": [
        "## Creating a Row class\n",
        "\n",
        "* Pass `Row` the columns names\n",
        "* Creates a specialized `Row` class"
      ]
    },
    {
      "cell_type": "code",
      "execution_count": null,
      "metadata": {
        "colab": {
          "base_uri": "https://localhost:8080/"
        },
        "id": "1ZO3CiYYRy3R",
        "outputId": "a10f5b54-f068-4ccf-cf41-68c8b701feaa"
      },
      "outputs": [
        {
          "output_type": "execute_result",
          "data": {
            "text/plain": [
              "<Row('firstName', 'lastName', 'email', 'salary')>"
            ]
          },
          "metadata": {},
          "execution_count": 41
        }
      ],
      "source": [
        "Employee = Row(\"firstName\", \"lastName\", \"email\", \"salary\")\n",
        "Employee"
      ]
    },
    {
      "cell_type": "markdown",
      "metadata": {
        "id": "MrAAWT4nRy3S"
      },
      "source": [
        "## Creating a `Employee` instance\n",
        "\n",
        "* Pass the data to `Employee` to make a row\n",
        "* Order matters ... use the same order as names"
      ]
    },
    {
      "cell_type": "code",
      "execution_count": null,
      "metadata": {
        "colab": {
          "base_uri": "https://localhost:8080/"
        },
        "id": "auFhqmbNRy3S",
        "outputId": "951d2d41-91a2-49ed-e698-af214643af6c"
      },
      "outputs": [
        {
          "output_type": "execute_result",
          "data": {
            "text/plain": [
              "Row(firstName='michael', lastName='armbrust', email='no-reply@berkeley.edu', salary=100000)"
            ]
          },
          "metadata": {},
          "execution_count": 42
        }
      ],
      "source": [
        "Employee = Row(\"firstName\", \"lastName\", \"email\", \"salary\")\n",
        "employee1 = Employee('michael', 'armbrust', 'no-reply@berkeley.edu', 100000)\n",
        "employee1"
      ]
    },
    {
      "cell_type": "markdown",
      "metadata": {
        "id": "t-3Q8QpZRy3S"
      },
      "source": [
        "## Unpacking a data list\n",
        "\n",
        "* Suppose the data is in a list/tuple.\n",
        "* Use sequence unpacking with `*`"
      ]
    },
    {
      "cell_type": "code",
      "execution_count": null,
      "metadata": {
        "colab": {
          "base_uri": "https://localhost:8080/"
        },
        "id": "PJv1aQpRRy3T",
        "outputId": "ae70bc1d-d983-4504-c3b7-7d4e86fb4ecc"
      },
      "outputs": [
        {
          "output_type": "execute_result",
          "data": {
            "text/plain": [
              "('xiangrui', 'meng', 'no-reply@stanford.edu', 120000)"
            ]
          },
          "metadata": {},
          "execution_count": 43
        }
      ],
      "source": [
        "empl2_info = ('xiangrui', 'meng', 'no-reply@stanford.edu', 120000)\n",
        "empl2_info"
      ]
    },
    {
      "cell_type": "code",
      "execution_count": null,
      "metadata": {
        "colab": {
          "base_uri": "https://localhost:8080/"
        },
        "id": "4dRAOZ-CRy3T",
        "outputId": "399c28f3-0c43-46ed-8105-af6587a8972c"
      },
      "outputs": [
        {
          "output_type": "execute_result",
          "data": {
            "text/plain": [
              "Row(firstName='xiangrui', lastName='meng', email='no-reply@stanford.edu', salary=120000)"
            ]
          },
          "metadata": {},
          "execution_count": 44
        }
      ],
      "source": [
        "employee2 = Employee(*empl2_info)\n",
        "employee2"
      ]
    },
    {
      "cell_type": "markdown",
      "metadata": {
        "id": "igGducXvRy3T"
      },
      "source": [
        "## Unpacking "
      ]
    },
    {
      "cell_type": "code",
      "execution_count": null,
      "metadata": {
        "colab": {
          "base_uri": "https://localhost:8080/"
        },
        "id": "g64SPRukRy3U",
        "outputId": "0ba0e24d-d4e6-408f-d642-e8e73f07340a"
      },
      "outputs": [
        {
          "output_type": "execute_result",
          "data": {
            "text/plain": [
              "[Row(firstName='michael', lastName='armbrust', email='no-reply@berkeley.edu', salary=100000),\n",
              " Row(firstName='xiangrui', lastName='meng', email='no-reply@stanford.edu', salary=120000),\n",
              " Row(firstName='matei', lastName=None, email='no-reply@waterloo.edu', salary=140000),\n",
              " Row(firstName=None, lastName='wendell', email='no-reply@berkeley.edu', salary=160000)]"
            ]
          },
          "metadata": {},
          "execution_count": 45
        }
      ],
      "source": [
        "# Create the Employees\n",
        "Employee = Row(\"firstName\", \"lastName\", \"email\", \"salary\")\n",
        "employees = [('michael', 'armbrust', 'no-reply@berkeley.edu', 100000),\n",
        "             ('xiangrui', 'meng', 'no-reply@stanford.edu', 120000),\n",
        "             ('matei', None, 'no-reply@waterloo.edu', 140000),\n",
        "             (None, 'wendell', 'no-reply@berkeley.edu', 160000)]\n",
        "emp_rows = [Employee(*r) for r in employees]\n",
        "emp_rows"
      ]
    }
  ],
  "metadata": {
    "celltoolbar": "Slideshow",
    "kernelspec": {
      "display_name": "Python 3 (ipykernel)",
      "language": "python",
      "name": "python3"
    },
    "language_info": {
      "codemirror_mode": {
        "name": "ipython",
        "version": 3
      },
      "file_extension": ".py",
      "mimetype": "text/x-python",
      "name": "python",
      "nbconvert_exporter": "python",
      "pygments_lexer": "ipython3",
      "version": "3.9.12"
    },
    "varInspector": {
      "cols": {
        "lenName": 16,
        "lenType": 16,
        "lenVar": 40
      },
      "kernels_config": {
        "python": {
          "delete_cmd_postfix": "",
          "delete_cmd_prefix": "del ",
          "library": "var_list.py",
          "varRefreshCmd": "print(var_dic_list())"
        },
        "r": {
          "delete_cmd_postfix": ") ",
          "delete_cmd_prefix": "rm(",
          "library": "var_list.r",
          "varRefreshCmd": "cat(var_dic_list()) "
        }
      },
      "types_to_exclude": [
        "module",
        "function",
        "builtin_function_or_method",
        "instance",
        "_Feature"
      ],
      "window_display": false
    },
    "colab": {
      "provenance": [],
      "collapsed_sections": [
        "9FVAnVCFSRRM",
        "8v26KFc3Ry2w",
        "bZct8N4PRy2y",
        "3rgaAdSMRy21",
        "qfuTevyXRy23",
        "DqRGmJk4Ry25",
        "jKVuBwbtRy26",
        "q9SJPtXWRy27",
        "ZeGQ8V3WRy28",
        "BKrVK7sARy28",
        "qeWlqKJhRy29",
        "m_fo_qJRRy2-",
        "w0RzEUbPRy2_",
        "6ps4FCptRy2_",
        "kVUEEQsoRy3B",
        "OZEph9zKRy3E",
        "D1JXCbBURy3G",
        "zndd6lmLRy3H",
        "rCqrpp4aRy3I",
        "bt-HmftzRy3K",
        "wqF2ZmQTRy3L",
        "77ULZOaHRy3L",
        "Fkheoz2-Ry3M",
        "AN6uO88SRy3N",
        "zOIpIXD3Ry3P",
        "_A-XJLCaRy3P",
        "GdXTzICWRy3Q",
        "Hu-N03ygRy3R",
        "MrAAWT4nRy3S",
        "t-3Q8QpZRy3S",
        "igGducXvRy3T"
      ],
      "include_colab_link": true
    }
  },
  "nbformat": 4,
  "nbformat_minor": 0
}